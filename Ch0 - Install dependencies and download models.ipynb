{
 "cells": [
  {
   "cell_type": "markdown",
   "id": "57e6872b-483f-4789-98fe-a49c466682e3",
   "metadata": {},
   "source": [
    "# Preparing your environment\n",
    "\n",
    "For this course, we will only use the `python` programming language. I use the latest versions of all packages and Python 3.10 with pip package manager. You are free to use other versions or other package managers of course.\n",
    "\n",
    "We will make extensive use of the following packages\n",
    "* spaCy\n",
    "* pandas\n",
    "* transformers 🤗\n",
    "* datasets🤗\n",
    "* sklearn\n",
    "* matplotlib\n",
    "\n",
    "The following code is to install and test if your environment works as intended, so that you don't lose time during the course.\n",
    "\n",
    "Python dependencies can be real nasty !"
   ]
  },
  {
   "cell_type": "markdown",
   "id": "60ae5198-b088-453a-a383-8113a55a3532",
   "metadata": {},
   "source": [
    "### Check Python version"
   ]
  },
  {
   "cell_type": "code",
   "execution_count": null,
   "id": "84ac5d6a-5947-4591-ab22-4a089039aa8a",
   "metadata": {},
   "outputs": [],
   "source": [
    "import sys\n",
    "assert sys.version_info.major==3, \"Python 3.x is required\"\n",
    "if sys.version_info.minor<10: print(\"Warning: Python 3.10 is recommended\")\n",
    "else: print(\"Python >= 3.10 👍\")"
   ]
  },
  {
   "cell_type": "markdown",
   "id": "14c26495-03bf-4a91-9a0d-a8361948efdd",
   "metadata": {},
   "source": [
    "## Installation"
   ]
  },
  {
   "cell_type": "code",
   "execution_count": null,
   "id": "806158ea-c5fe-47dc-86e7-05cdbb10c9b2",
   "metadata": {},
   "outputs": [],
   "source": [
    "!pip install  -U spacy scikit-learn matplotlib transformers datasets pandas wordfreq spacy-transformers pytorch-transformers sentence-transformers faiss-cpu langchain tqdm datasets accelerate torch nltk"
   ]
  },
  {
   "cell_type": "markdown",
   "id": "71e7b8bd-0b0f-4e6e-8dda-70e1d9e4aa30",
   "metadata": {},
   "source": [
    "Test basic imports"
   ]
  },
  {
   "cell_type": "code",
   "execution_count": null,
   "id": "68a90a27-9929-4433-9a7b-1de34354c43e",
   "metadata": {},
   "outputs": [],
   "source": [
    "import spacy\n",
    "import pandas as pd\n",
    "import numpy as np\n",
    "\n",
    "from sklearn.ensemble import RandomForestClassifier\n",
    "from sklearn.metrics import classification_report\n",
    "from sklearn.metrics import ConfusionMatrixDisplay\n",
    "\n",
    "from spacy.lang.en.stop_words import STOP_WORDS\n",
    "from spacy.lang.en import English\n",
    "from spacy.vectors import Vectors\n",
    "\n",
    "from matplotlib import pyplot as plt\n",
    "\n",
    "print(\"It works!\")"
   ]
  },
  {
   "cell_type": "markdown",
   "id": "31476493-e246-4e33-826c-2ce31f30d3f9",
   "metadata": {},
   "source": [
    "## Download spacy models"
   ]
  },
  {
   "cell_type": "code",
   "execution_count": null,
   "id": "6431bb37-a897-49b9-9af7-e1ceabe36df1",
   "metadata": {},
   "outputs": [],
   "source": [
    "!python -m spacy download en_core_web_lg"
   ]
  },
  {
   "cell_type": "code",
   "execution_count": null,
   "id": "8c62a3f6-f45d-49c7-84f1-7ccf969aacba",
   "metadata": {},
   "outputs": [],
   "source": [
    "!python -m spacy download en_core_web_md"
   ]
  },
  {
   "cell_type": "code",
   "execution_count": null,
   "id": "486c0fcc-13b9-41fc-bad9-10a76bd2e689",
   "metadata": {},
   "outputs": [],
   "source": [
    "!python -m spacy download en_core_web_sm"
   ]
  },
  {
   "cell_type": "markdown",
   "id": "cafb855a-380a-47fa-bdfd-bc2709f53720",
   "metadata": {},
   "source": [
    "### Test if that worked"
   ]
  },
  {
   "cell_type": "code",
   "execution_count": null,
   "id": "a4ad9b32-6ad1-448e-8080-4e9dc5c6714e",
   "metadata": {},
   "outputs": [],
   "source": [
    "import spacy\n",
    "nlp = spacy.load('en_core_web_sm')\n",
    "nlp(\"Small model works!\")"
   ]
  },
  {
   "cell_type": "code",
   "execution_count": null,
   "id": "ca7940a5-94a6-4cf1-96ee-8946eac2e625",
   "metadata": {},
   "outputs": [],
   "source": [
    "nlp = spacy.load('en_core_web_md')\n",
    "nlp(\"Medium model works!\")"
   ]
  },
  {
   "cell_type": "code",
   "execution_count": null,
   "id": "1aa4728b-a465-42a7-b4eb-5c3ac1b6baeb",
   "metadata": {},
   "outputs": [],
   "source": [
    "nlp = spacy.load('en_core_web_lg')\n",
    "nlp(\"Large model works!\")"
   ]
  },
  {
   "cell_type": "markdown",
   "id": "590659f7-b49d-43da-8fec-fda61fcf62b0",
   "metadata": {},
   "source": [
    "## Download HuggingFace models"
   ]
  },
  {
   "cell_type": "code",
   "execution_count": null,
   "id": "0fcabc6e-8579-416c-9cbc-e52c4d17549a",
   "metadata": {},
   "outputs": [],
   "source": [
    "from transformers import AutoTokenizer\n",
    "from transformers import AutoModelForSequenceClassification, TrainingArguments, Trainer\n",
    "\n",
    "tokenizer = AutoTokenizer.from_pretrained(\"distilbert-base-uncased\")\n",
    "model = AutoModelForSequenceClassification.from_pretrained(\"distilbert-base-uncased\", num_labels=3)\n",
    "print(\"It works!\")"
   ]
  },
  {
   "cell_type": "markdown",
   "id": "4bb68934-e7f0-48e5-a128-32255bd51742",
   "metadata": {},
   "source": [
    "## Download nltk packages"
   ]
  },
  {
   "cell_type": "code",
   "execution_count": null,
   "id": "c0663f90-132a-4338-8cbe-b2ae14f7336d",
   "metadata": {},
   "outputs": [],
   "source": [
    "import nltk\n",
    "nltk.download('punkt')"
   ]
  },
  {
   "cell_type": "code",
   "execution_count": null,
   "id": "7e0c65a2-c673-4dcf-a09f-36f1a52c25e4",
   "metadata": {},
   "outputs": [],
   "source": []
  }
 ],
 "metadata": {
  "kernelspec": {
   "display_name": "Python 3 (ipykernel)",
   "language": "python",
   "name": "python3"
  },
  "language_info": {
   "codemirror_mode": {
    "name": "ipython",
    "version": 3
   },
   "file_extension": ".py",
   "mimetype": "text/x-python",
   "name": "python",
   "nbconvert_exporter": "python",
   "pygments_lexer": "ipython3",
   "version": "3.11.6"
  }
 },
 "nbformat": 4,
 "nbformat_minor": 5
}
