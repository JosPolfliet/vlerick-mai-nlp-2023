{
 "cells": [
  {
   "cell_type": "markdown",
   "metadata": {},
   "source": [
    "# Imports"
   ]
  },
  {
   "cell_type": "code",
   "execution_count": null,
   "metadata": {},
   "outputs": [],
   "source": []
  },
  {
   "cell_type": "code",
   "execution_count": 1,
   "metadata": {},
   "outputs": [],
   "source": [
    "#!pip install pytorch-transformers accelerate evaluate -U"
   ]
  },
  {
   "cell_type": "code",
   "execution_count": 2,
   "metadata": {},
   "outputs": [
    {
     "name": "stderr",
     "output_type": "stream",
     "text": [
      "/opt/homebrew/lib/python3.11/site-packages/tqdm/auto.py:21: TqdmWarning: IProgress not found. Please update jupyter and ipywidgets. See https://ipywidgets.readthedocs.io/en/stable/user_install.html\n",
      "  from .autonotebook import tqdm as notebook_tqdm\n"
     ]
    }
   ],
   "source": [
    "try:\n",
    "    from mai_nlp_helper_functions import *\n",
    "except ImportError as e:\n",
    "    raise ImportError(\"You don't have the mai_nlp_helper_functions.py file in the same directory as your note book. Either add it, or copy paste the contents in this cell\") from e\n"
   ]
  },
  {
   "cell_type": "code",
   "execution_count": 3,
   "metadata": {
    "id": "8vW9svTE289D"
   },
   "outputs": [],
   "source": [
    "\n",
    "import pandas as pd\n",
    "import datasets\n",
    "from sklearn.model_selection import train_test_split\n",
    "from datasets import Dataset, Features, ClassLabel, Value\n",
    "from transformers import DataCollatorWithPadding\n"
   ]
  },
  {
   "cell_type": "markdown",
   "metadata": {},
   "source": [
    "## Get data"
   ]
  },
  {
   "cell_type": "code",
   "execution_count": 4,
   "metadata": {},
   "outputs": [
    {
     "data": {
      "text/html": [
       "<div>\n",
       "<style scoped>\n",
       "    .dataframe tbody tr th:only-of-type {\n",
       "        vertical-align: middle;\n",
       "    }\n",
       "\n",
       "    .dataframe tbody tr th {\n",
       "        vertical-align: top;\n",
       "    }\n",
       "\n",
       "    .dataframe thead th {\n",
       "        text-align: right;\n",
       "    }\n",
       "</style>\n",
       "<table border=\"1\" class=\"dataframe\">\n",
       "  <thead>\n",
       "    <tr style=\"text-align: right;\">\n",
       "      <th></th>\n",
       "      <th>text</th>\n",
       "      <th>subject</th>\n",
       "      <th>labels</th>\n",
       "    </tr>\n",
       "  </thead>\n",
       "  <tbody>\n",
       "    <tr>\n",
       "      <th>0</th>\n",
       "      <td>Since its inception in 2010, we have distribut...</td>\n",
       "      <td>Social</td>\n",
       "      <td>Social</td>\n",
       "    </tr>\n",
       "    <tr>\n",
       "      <th>1</th>\n",
       "      <td>I will focus first on traffic, which is a key ...</td>\n",
       "      <td>NaN</td>\n",
       "      <td>Other</td>\n",
       "    </tr>\n",
       "    <tr>\n",
       "      <th>2</th>\n",
       "      <td>Also, many farms are aged with degraded soil t...</td>\n",
       "      <td>Environmental</td>\n",
       "      <td>Environmental</td>\n",
       "    </tr>\n",
       "    <tr>\n",
       "      <th>3</th>\n",
       "      <td>Alaska 2009 STEWARDSHIP REPORT54 cOnSERvATIOn,...</td>\n",
       "      <td>Social</td>\n",
       "      <td>Social</td>\n",
       "    </tr>\n",
       "    <tr>\n",
       "      <th>4</th>\n",
       "      <td>The company’s U.S. GOM operations can be impac...</td>\n",
       "      <td>NaN</td>\n",
       "      <td>Other</td>\n",
       "    </tr>\n",
       "    <tr>\n",
       "      <th>...</th>\n",
       "      <td>...</td>\n",
       "      <td>...</td>\n",
       "      <td>...</td>\n",
       "    </tr>\n",
       "    <tr>\n",
       "      <th>2180</th>\n",
       "      <td>American shad are a species of concern for res...</td>\n",
       "      <td>Environmental</td>\n",
       "      <td>Environmental</td>\n",
       "    </tr>\n",
       "    <tr>\n",
       "      <th>2181</th>\n",
       "      <td>Weyerhaeuser's policies address best practices...</td>\n",
       "      <td>NaN</td>\n",
       "      <td>Other</td>\n",
       "    </tr>\n",
       "    <tr>\n",
       "      <th>2182</th>\n",
       "      <td>compares recently observed trends in weather p...</td>\n",
       "      <td>Environmental</td>\n",
       "      <td>Environmental</td>\n",
       "    </tr>\n",
       "    <tr>\n",
       "      <th>2183</th>\n",
       "      <td>If our partners, including our licensors, suff...</td>\n",
       "      <td>NaN</td>\n",
       "      <td>Other</td>\n",
       "    </tr>\n",
       "    <tr>\n",
       "      <th>2184</th>\n",
       "      <td>Subsequently through three separate acquisitio...</td>\n",
       "      <td>NaN</td>\n",
       "      <td>Other</td>\n",
       "    </tr>\n",
       "  </tbody>\n",
       "</table>\n",
       "<p>2185 rows × 3 columns</p>\n",
       "</div>"
      ],
      "text/plain": [
       "                                                   text        subject  \\\n",
       "0     Since its inception in 2010, we have distribut...         Social   \n",
       "1     I will focus first on traffic, which is a key ...            NaN   \n",
       "2     Also, many farms are aged with degraded soil t...  Environmental   \n",
       "3     Alaska 2009 STEWARDSHIP REPORT54 cOnSERvATIOn,...         Social   \n",
       "4     The company’s U.S. GOM operations can be impac...            NaN   \n",
       "...                                                 ...            ...   \n",
       "2180  American shad are a species of concern for res...  Environmental   \n",
       "2181  Weyerhaeuser's policies address best practices...            NaN   \n",
       "2182  compares recently observed trends in weather p...  Environmental   \n",
       "2183  If our partners, including our licensors, suff...            NaN   \n",
       "2184  Subsequently through three separate acquisitio...            NaN   \n",
       "\n",
       "             labels  \n",
       "0            Social  \n",
       "1             Other  \n",
       "2     Environmental  \n",
       "3            Social  \n",
       "4             Other  \n",
       "...             ...  \n",
       "2180  Environmental  \n",
       "2181          Other  \n",
       "2182  Environmental  \n",
       "2183          Other  \n",
       "2184          Other  \n",
       "\n",
       "[2185 rows x 3 columns]"
      ]
     },
     "execution_count": 4,
     "metadata": {},
     "output_type": "execute_result"
    }
   ],
   "source": [
    "df = pd.read_csv(\"DATA/esg_reports.csv\")\n",
    "df[\"labels\"] = df[\"subject\"].fillna(\"Other\")\n",
    "df"
   ]
  },
  {
   "cell_type": "markdown",
   "metadata": {},
   "source": [
    "## Transformers model 1"
   ]
  },
  {
   "cell_type": "code",
   "execution_count": 5,
   "metadata": {},
   "outputs": [],
   "source": [
    "from transformers import AutoTokenizer\n",
    "tokenizer = AutoTokenizer.from_pretrained(\"distilbert-base-uncased\")\n"
   ]
  },
  {
   "cell_type": "code",
   "execution_count": 6,
   "metadata": {},
   "outputs": [
    {
     "data": {
      "text/plain": [
       "DistilBertTokenizerFast(name_or_path='distilbert-base-uncased', vocab_size=30522, model_max_length=512, is_fast=True, padding_side='right', truncation_side='right', special_tokens={'unk_token': '[UNK]', 'sep_token': '[SEP]', 'pad_token': '[PAD]', 'cls_token': '[CLS]', 'mask_token': '[MASK]'}, clean_up_tokenization_spaces=True),  added_tokens_decoder={\n",
       "\t0: AddedToken(\"[PAD]\", rstrip=False, lstrip=False, single_word=False, normalized=False, special=True),\n",
       "\t100: AddedToken(\"[UNK]\", rstrip=False, lstrip=False, single_word=False, normalized=False, special=True),\n",
       "\t101: AddedToken(\"[CLS]\", rstrip=False, lstrip=False, single_word=False, normalized=False, special=True),\n",
       "\t102: AddedToken(\"[SEP]\", rstrip=False, lstrip=False, single_word=False, normalized=False, special=True),\n",
       "\t103: AddedToken(\"[MASK]\", rstrip=False, lstrip=False, single_word=False, normalized=False, special=True),\n",
       "}"
      ]
     },
     "execution_count": 6,
     "metadata": {},
     "output_type": "execute_result"
    }
   ],
   "source": [
    "tokenizer"
   ]
  },
  {
   "cell_type": "code",
   "execution_count": 7,
   "metadata": {},
   "outputs": [
    {
     "name": "stdout",
     "output_type": "stream",
     "text": [
      "Becoming a WindMade Pioneer will help BD communicate our renewable energy use more effectively to customers and company stakeholders.\n",
      "{'input_ids': [[101, 3352, 1037, 3612, 21565, 7156, 2097, 2393, 1038, 2094, 10639, 2256, 13918, 2943, 2224, 2062, 6464, 2000, 6304, 1998, 2194, 22859, 1012, 102]], 'attention_mask': [[1, 1, 1, 1, 1, 1, 1, 1, 1, 1, 1, 1, 1, 1, 1, 1, 1, 1, 1, 1, 1, 1, 1, 1]]}\n",
      "101 [CLS]\n",
      "3352 becoming\n",
      "1037 a\n",
      "3612 wind\n",
      "21565 ##made\n",
      "7156 pioneer\n",
      "2097 will\n",
      "2393 help\n",
      "1038 b\n",
      "2094 ##d\n",
      "10639 communicate\n",
      "2256 our\n",
      "13918 renewable\n",
      "2943 energy\n",
      "2224 use\n",
      "2062 more\n",
      "6464 effectively\n",
      "2000 to\n",
      "6304 customers\n",
      "1998 and\n",
      "2194 company\n",
      "22859 stakeholders\n",
      "1012 .\n",
      "102 [SEP]\n"
     ]
    }
   ],
   "source": [
    "def preprocess_function(examples):\n",
    "    return tokenizer(examples[\"text\"], truncation=True, padding=True)\n",
    "\n",
    "sentence = df.iloc[203][\"text\"]\n",
    "encoded = preprocess_function({\"text\":[sentence]})\n",
    "print(sentence)\n",
    "print(encoded)\n",
    "for w in encoded['input_ids'][0]:\n",
    "    print(w, tokenizer.decode([w]))"
   ]
  },
  {
   "cell_type": "code",
   "execution_count": 8,
   "metadata": {},
   "outputs": [
    {
     "name": "stdout",
     "output_type": "stream",
     "text": [
      "101 [CLS]\n",
      "3352 becoming\n",
      "1037 a\n",
      "3612 wind\n",
      "21565 ##made\n",
      "7156 pioneer\n",
      "2097 will\n",
      "2393 help\n",
      "1038 b\n",
      "2094 ##d\n",
      "10639 communicate\n",
      "2256 our\n",
      "13918 renewable\n",
      "2943 energy\n",
      "2224 use\n",
      "2062 more\n",
      "6464 effectively\n",
      "2000 to\n",
      "6304 customers\n",
      "1998 and\n",
      "2194 company\n",
      "22859 stakeholders\n",
      "1012 .\n",
      "102 [SEP]\n"
     ]
    }
   ],
   "source": [
    "for w in encoded['input_ids'][0]:\n",
    "    print(w, tokenizer.decode([w]))"
   ]
  },
  {
   "cell_type": "code",
   "execution_count": 9,
   "metadata": {},
   "outputs": [],
   "source": [
    "class_names = [\"Environmental\", \"Social\", \"Other\"]\n",
    "esg_classes = Features({'__index_level_0__': Value('string'), \n",
    "                             'text': Value('string'), \n",
    "                             'labels': ClassLabel(names=class_names)})\n"
   ]
  },
  {
   "cell_type": "code",
   "execution_count": 10,
   "metadata": {},
   "outputs": [],
   "source": [
    "data_collator = DataCollatorWithPadding(tokenizer=tokenizer)"
   ]
  },
  {
   "cell_type": "code",
   "execution_count": 11,
   "metadata": {},
   "outputs": [
    {
     "data": {
      "text/plain": [
       "Dataset({\n",
       "    features: ['__index_level_0__', 'text', 'labels'],\n",
       "    num_rows: 1638\n",
       "})"
      ]
     },
     "execution_count": 11,
     "metadata": {},
     "output_type": "execute_result"
    }
   ],
   "source": [
    "df_train, df_test = train_test_split(df, random_state=22141)\n",
    "train = Dataset.from_pandas(df_train[[\"text\", \"labels\"]], features=esg_classes)\n",
    "test = Dataset.from_pandas(df_test[[\"text\", \"labels\"]], features=esg_classes)\n",
    "train"
   ]
  },
  {
   "cell_type": "code",
   "execution_count": 12,
   "metadata": {},
   "outputs": [
    {
     "name": "stderr",
     "output_type": "stream",
     "text": [
      "huggingface/tokenizers: The current process just got forked, after parallelism has already been used. Disabling parallelism to avoid deadlocks...\n",
      "To disable this warning, you can either:\n",
      "\t- Avoid using `tokenizers` before the fork if possible\n",
      "\t- Explicitly set the environment variable TOKENIZERS_PARALLELISM=(true | false)\n",
      "Map:   0%|          | 0/1638 [00:00<?, ? examples/s]"
     ]
    },
    {
     "name": "stderr",
     "output_type": "stream",
     "text": [
      "Map: 100%|██████████| 1638/1638 [00:00<00:00, 12046.76 examples/s]\n",
      "Map: 100%|██████████| 547/547 [00:00<00:00, 12731.59 examples/s]\n"
     ]
    },
    {
     "data": {
      "text/plain": [
       "Dataset({\n",
       "    features: ['__index_level_0__', 'text', 'labels', 'input_ids', 'attention_mask'],\n",
       "    num_rows: 1638\n",
       "})"
      ]
     },
     "execution_count": 12,
     "metadata": {},
     "output_type": "execute_result"
    }
   ],
   "source": [
    "tokenized_train = train.map(preprocess_function, batched=True)\n",
    "tokenized_test = test.map(preprocess_function, batched=True)\n",
    "tokenized_train"
   ]
  },
  {
   "cell_type": "code",
   "execution_count": 13,
   "metadata": {},
   "outputs": [
    {
     "name": "stderr",
     "output_type": "stream",
     "text": [
      "Some weights of DistilBertForSequenceClassification were not initialized from the model checkpoint at distilbert-base-uncased and are newly initialized: ['pre_classifier.weight', 'pre_classifier.bias', 'classifier.bias', 'classifier.weight']\n",
      "You should probably TRAIN this model on a down-stream task to be able to use it for predictions and inference.\n"
     ]
    }
   ],
   "source": [
    "\n",
    "from transformers import AutoModelForSequenceClassification, TrainingArguments, Trainer\n",
    "\n",
    "model = AutoModelForSequenceClassification.from_pretrained(\"distilbert-base-uncased\", num_labels=3)"
   ]
  },
  {
   "cell_type": "code",
   "execution_count": 14,
   "metadata": {},
   "outputs": [
    {
     "name": "stderr",
     "output_type": "stream",
     "text": [
      "  0%|          | 0/103 [00:00<?, ?it/s]You're using a DistilBertTokenizerFast tokenizer. Please note that with a fast tokenizer, using the `__call__` method is faster than using a method to encode the text followed by a call to the `pad` method to get a padded encoding.\n",
      "100%|██████████| 103/103 [02:01<00:00,  1.18s/it]"
     ]
    },
    {
     "name": "stdout",
     "output_type": "stream",
     "text": [
      "{'train_runtime': 121.614, 'train_samples_per_second': 13.469, 'train_steps_per_second': 0.847, 'train_loss': 0.7143979118865671, 'epoch': 1.0}\n"
     ]
    },
    {
     "name": "stderr",
     "output_type": "stream",
     "text": [
      "\n"
     ]
    },
    {
     "data": {
      "text/plain": [
       "TrainOutput(global_step=103, training_loss=0.7143979118865671, metrics={'train_runtime': 121.614, 'train_samples_per_second': 13.469, 'train_steps_per_second': 0.847, 'train_loss': 0.7143979118865671, 'epoch': 1.0})"
      ]
     },
     "execution_count": 14,
     "metadata": {},
     "output_type": "execute_result"
    }
   ],
   "source": [
    "training_args = TrainingArguments(\n",
    "    output_dir=\"./results\",\n",
    "    learning_rate=2e-5,\n",
    "    per_device_train_batch_size=16,\n",
    "    per_device_eval_batch_size=16,\n",
    "    num_train_epochs=1,\n",
    "    weight_decay=0.01,\n",
    ")\n",
    "\n",
    "trainer = Trainer(\n",
    "    model=model,\n",
    "    args=training_args,\n",
    "    train_dataset=tokenized_train,\n",
    "    tokenizer=tokenizer,\n",
    "    data_collator=data_collator\n",
    ")\n",
    "\n",
    "trainer.train()"
   ]
  },
  {
   "cell_type": "markdown",
   "metadata": {},
   "source": [
    "This takes a long time. I trained this in the cloud instead, results are in the lecture powerpoint."
   ]
  },
  {
   "cell_type": "code",
   "execution_count": 15,
   "metadata": {},
   "outputs": [],
   "source": [
    "# If you are runnign for real, save your work!\n",
    "model.save_pretrained(\"mymodel\")\n",
    "model = AutoModelForSequenceClassification.from_pretrained(\"mymodel\")\n"
   ]
  },
  {
   "cell_type": "markdown",
   "metadata": {},
   "source": [
    "## Evaluate - alternative"
   ]
  },
  {
   "cell_type": "code",
   "execution_count": 16,
   "metadata": {},
   "outputs": [],
   "source": [
    "# from evaluate import evaluator\n",
    "# from datasets import load_dataset\n",
    "# task_evaluator = evaluator(\"text-classification\")\n",
    "\n",
    "# results = task_evaluator.compute(\n",
    "#     model_or_pipeline=model,\n",
    "#     data=tokenized_test,\n",
    "#     metric=\"accuracy\",\n",
    "#     label_mapping={\n",
    "#     \"LABEL_0\": 0,\n",
    "#     \"LABEL_1\": 1,\n",
    "#     \"LABEL_2\": 2\n",
    "#   },\n",
    "#     # label_mapping=emotion_features[\"labels\"]._str2int,\n",
    "#     label_column=\"labels\",\n",
    "#     n_resamples=1,\n",
    "#     random_state=0,\n",
    "#     tokenizer=tokenizer\n",
    "# )"
   ]
  },
  {
   "cell_type": "code",
   "execution_count": 17,
   "metadata": {},
   "outputs": [
    {
     "name": "stderr",
     "output_type": "stream",
     "text": [
      "100%|██████████| 35/35 [00:15<00:00,  2.29it/s]\n"
     ]
    },
    {
     "name": "stdout",
     "output_type": "stream",
     "text": [
      "               precision    recall  f1-score   support\n",
      "\n",
      "Environmental       1.00      1.00      1.00       299\n",
      "        Other       1.00      1.00      1.00       115\n",
      "       Social       1.00      1.00      1.00       133\n",
      "\n",
      "     accuracy                           1.00       547\n",
      "    macro avg       1.00      1.00      1.00       547\n",
      " weighted avg       1.00      1.00      1.00       547\n",
      "\n"
     ]
    },
    {
     "data": {
      "image/png": "[encoded data removed]",
      "text/plain": [
       "<Figure size 800x500 with 2 Axes>"
      ]
     },
     "metadata": {},
     "output_type": "display_data"
    }
   ],
   "source": [
    "\n",
    "experiment_name = \"Transformers dummy\"\n",
    "\n",
    "# predictions = clf.predict(X_test)\n",
    "predictions = trainer.predict(tokenized_test)\n",
    "prediction_labels = [class_names[x] for x in predictions.label_ids]\n",
    "\n",
    "stats = evaluate_model(df_test[\"labels\"], prediction_labels, class_names)\n",
    "log_experiment_results(experiment_name, stats[\"macro avg\"])"
   ]
  },
  {
   "cell_type": "code",
   "execution_count": null,
   "metadata": {},
   "outputs": [],
   "source": []
  },
  {
   "cell_type": "code",
   "execution_count": null,
   "metadata": {},
   "outputs": [],
   "source": []
  },
  {
   "cell_type": "code",
   "execution_count": null,
   "metadata": {},
   "outputs": [],
   "source": []
  }
 ],
 "metadata": {
  "colab": {
   "collapsed_sections": [],
   "include_colab_link": true,
   "name": "nlpdemystified-preprocessing.ipynb",
   "private_outputs": true,
   "provenance": []
  },
  "kernelspec": {
   "display_name": "Python 3 (ipykernel)",
   "language": "python",
   "name": "python3"
  },
  "language_info": {
   "codemirror_mode": {
    "name": "ipython",
    "version": 3
   },
   "file_extension": ".py",
   "mimetype": "text/x-python",
   "name": "python",
   "nbconvert_exporter": "python",
   "pygments_lexer": "ipython3",
   "version": "3.11.6"
  }
 },
 "nbformat": 4,
 "nbformat_minor": 4
}
