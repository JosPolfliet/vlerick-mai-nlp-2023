{
 "cells": [
  {
   "cell_type": "code",
   "execution_count": null,
   "id": "275d3287-7e08-4cfc-abd8-3c54243e9d7f",
   "metadata": {},
   "outputs": [],
   "source": [
    "https://evo.ninja/\n",
    "\n",
    "Write a 1-pager outlining a research strategy for Vlerick Business School to improve their ESG involvement."
   ]
  }
 ],
 "metadata": {
  "kernelspec": {
   "display_name": "Python 3 (ipykernel)",
   "language": "python",
   "name": "python3"
  },
  "language_info": {
   "codemirror_mode": {
    "name": "ipython",
    "version": 3
   },
   "file_extension": ".py",
   "mimetype": "text/x-python",
   "name": "python",
   "nbconvert_exporter": "python",
   "pygments_lexer": "ipython3",
   "version": "3.11.6"
  }
 },
 "nbformat": 4,
 "nbformat_minor": 5
}
