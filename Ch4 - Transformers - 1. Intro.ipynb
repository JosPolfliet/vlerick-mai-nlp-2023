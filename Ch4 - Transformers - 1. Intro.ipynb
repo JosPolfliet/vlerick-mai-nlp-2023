{
 "cells": [
  {
   "cell_type": "markdown",
   "metadata": {},
   "source": [
    "# Imports"
   ]
  },
  {
   "cell_type": "code",
   "execution_count": 1,
   "metadata": {},
   "outputs": [],
   "source": [
    "#!pip install transformers datasets pandas"
   ]
  },
  {
   "cell_type": "code",
   "execution_count": 4,
   "metadata": {
    "id": "8vW9svTE289D"
   },
   "outputs": [],
   "source": [
    "\n",
    "import pandas as pd\n",
    "import datasets\n",
    "from sklearn.model_selection import train_test_split\n",
    "from datasets import Dataset, Features, ClassLabel, Value"
   ]
  },
  {
   "cell_type": "markdown",
   "metadata": {},
   "source": [
    "## Transformers - Real tokenizer example"
   ]
  },
  {
   "cell_type": "code",
   "execution_count": 5,
   "metadata": {},
   "outputs": [],
   "source": [
    "from transformers import AutoTokenizer\n",
    "tokenizer = AutoTokenizer.from_pretrained(\"distilbert-base-uncased\")\n"
   ]
  },
  {
   "cell_type": "code",
   "execution_count": 6,
   "metadata": {},
   "outputs": [
    {
     "data": {
      "text/plain": [
       "DistilBertTokenizerFast(name_or_path='distilbert-base-uncased', vocab_size=30522, model_max_length=512, is_fast=True, padding_side='right', truncation_side='right', special_tokens={'unk_token': '[UNK]', 'sep_token': '[SEP]', 'pad_token': '[PAD]', 'cls_token': '[CLS]', 'mask_token': '[MASK]'}, clean_up_tokenization_spaces=True),  added_tokens_decoder={\n",
       "\t0: AddedToken(\"[PAD]\", rstrip=False, lstrip=False, single_word=False, normalized=False, special=True),\n",
       "\t100: AddedToken(\"[UNK]\", rstrip=False, lstrip=False, single_word=False, normalized=False, special=True),\n",
       "\t101: AddedToken(\"[CLS]\", rstrip=False, lstrip=False, single_word=False, normalized=False, special=True),\n",
       "\t102: AddedToken(\"[SEP]\", rstrip=False, lstrip=False, single_word=False, normalized=False, special=True),\n",
       "\t103: AddedToken(\"[MASK]\", rstrip=False, lstrip=False, single_word=False, normalized=False, special=True),\n",
       "}"
      ]
     },
     "execution_count": 6,
     "metadata": {},
     "output_type": "execute_result"
    }
   ],
   "source": [
    "tokenizer"
   ]
  },
  {
   "cell_type": "code",
   "execution_count": 7,
   "metadata": {},
   "outputs": [
    {
     "name": "stdout",
     "output_type": "stream",
     "text": [
      "100000 wasn’t a meme. GME 🚀:rocket::rocket: ### (Empty body)\n",
      "{'input_ids': [[101, 6694, 8889, 2347, 1521, 1056, 1037, 2033, 4168, 1012, 13938, 2063, 100, 1024, 7596, 1024, 1024, 7596, 1024, 1001, 1001, 1001, 1006, 4064, 2303, 1007, 102]], 'attention_mask': [[1, 1, 1, 1, 1, 1, 1, 1, 1, 1, 1, 1, 1, 1, 1, 1, 1, 1, 1, 1, 1, 1, 1, 1, 1, 1, 1]]}\n",
      "101 [CLS]\n",
      "6694 1000\n",
      "8889 ##00\n",
      "2347 wasn\n",
      "1521 ’\n",
      "1056 t\n",
      "1037 a\n",
      "2033 me\n",
      "4168 ##me\n",
      "1012 .\n",
      "13938 gm\n",
      "2063 ##e\n",
      "100 [UNK]\n",
      "1024 :\n",
      "7596 rocket\n",
      "1024 :\n",
      "1024 :\n",
      "7596 rocket\n",
      "1024 :\n",
      "1001 #\n",
      "1001 #\n",
      "1001 #\n",
      "1006 (\n",
      "4064 empty\n",
      "2303 body\n",
      "1007 )\n",
      "102 [SEP]\n"
     ]
    }
   ],
   "source": [
    "def preprocess_function(examples):\n",
    "    return tokenizer(examples[\"text\"], truncation=True, padding=True)\n",
    "\n",
    "sentence = \"100000 wasn’t a meme. GME 🚀:rocket::rocket: ### (Empty body)\"\n",
    "encoded = preprocess_function({\"text\":[sentence]})\n",
    "print(sentence)\n",
    "print(encoded)\n",
    "for w in encoded['input_ids'][0]:\n",
    "    print(w, tokenizer.decode([w]))"
   ]
  },
  {
   "cell_type": "code",
   "execution_count": 8,
   "metadata": {},
   "outputs": [
    {
     "name": "stdout",
     "output_type": "stream",
     "text": [
      "If you use obscure, arcane, abstruse, recondite or incorectly spelled words, it will still work\n",
      "101 [CLS]\n",
      "2065 if\n",
      "2017 you\n",
      "2224 use\n",
      "14485 obscure\n",
      "1010 ,\n",
      "8115 arc\n",
      "7231 ##ane\n",
      "1010 ,\n",
      "14689 abs\n",
      "16344 ##tr\n",
      "8557 ##use\n",
      "1010 ,\n",
      "28667 rec\n",
      "15422 ##ond\n",
      "4221 ##ite\n",
      "2030 or\n",
      "4297 inc\n",
      "5686 ##ore\n",
      "6593 ##ct\n",
      "2135 ##ly\n",
      "11479 spelled\n",
      "2616 words\n",
      "1010 ,\n",
      "2009 it\n",
      "2097 will\n",
      "2145 still\n",
      "2147 work\n",
      "102 [SEP]\n"
     ]
    }
   ],
   "source": [
    "sentence = \"If you use obscure, arcane, abstruse, recondite or incorectly spelled words, it will still work\"\n",
    "encoded = preprocess_function({\"text\":[sentence]})\n",
    "print(sentence)\n",
    "# print(encoded)\n",
    "for w in encoded['input_ids'][0]:\n",
    "    print(w, tokenizer.decode([w]))"
   ]
  },
  {
   "cell_type": "code",
   "execution_count": 9,
   "metadata": {},
   "outputs": [
    {
     "name": "stdout",
     "output_type": "stream",
     "text": [
      "Zelfs antweirpse woorden die in het stadstheatre zouden passen, ca marche hé alors. 即使是晦澀難懂的中文單詞和概念也可以\n",
      "101 [CLS]\n",
      "27838 ze\n",
      "10270 ##lf\n",
      "2015 ##s\n",
      "14405 ant\n",
      "19845 ##wei\n",
      "14536 ##rp\n",
      "3366 ##se\n",
      "15854 woo\n",
      "18246 ##rden\n",
      "3280 die\n",
      "1999 in\n",
      "21770 het\n",
      "2358 st\n",
      "19303 ##ads\n",
      "10760 ##the\n",
      "4017 ##at\n",
      "2890 ##re\n",
      "1062 z\n",
      "19224 ##oud\n",
      "2368 ##en\n",
      "3413 pass\n",
      "2368 ##en\n",
      "1010 ,\n",
      "6187 ca\n",
      "28791 marche\n",
      "2002 he\n",
      "2632 al\n",
      "5668 ##ors\n",
      "1012 .\n",
      "100 [UNK]\n",
      "100 [UNK]\n",
      "100 [UNK]\n",
      "100 [UNK]\n",
      "100 [UNK]\n",
      "100 [UNK]\n",
      "100 [UNK]\n",
      "1916 的\n",
      "1746 中\n",
      "1861 文\n",
      "100 [UNK]\n",
      "100 [UNK]\n",
      "1796 和\n",
      "100 [UNK]\n",
      "100 [UNK]\n",
      "1750 也\n",
      "100 [UNK]\n",
      "100 [UNK]\n",
      "102 [SEP]\n"
     ]
    }
   ],
   "source": [
    "sentence = \"Zelfs antweirpse woorden die in het stadstheatre zouden passen, ca marche hé alors. 即使是晦澀難懂的中文單詞和概念也可以\"\n",
    "encoded = preprocess_function({\"text\":[sentence]})\n",
    "print(sentence)\n",
    "# print(encoded)\n",
    "for w in encoded['input_ids'][0]:\n",
    "    print(w, tokenizer.decode([w]))"
   ]
  },
  {
   "cell_type": "code",
   "execution_count": 10,
   "metadata": {},
   "outputs": [
    {
     "name": "stdout",
     "output_type": "stream",
     "text": [
      "101 [CLS]\n",
      "27838 ze\n",
      "10270 ##lf\n",
      "2015 ##s\n",
      "14405 ant\n",
      "19845 ##wei\n",
      "14536 ##rp\n",
      "3366 ##se\n",
      "15854 woo\n",
      "18246 ##rden\n",
      "3280 die\n",
      "1999 in\n",
      "21770 het\n",
      "2358 st\n",
      "19303 ##ads\n",
      "10760 ##the\n",
      "4017 ##at\n",
      "2890 ##re\n",
      "1062 z\n",
      "19224 ##oud\n",
      "2368 ##en\n",
      "3413 pass\n",
      "2368 ##en\n",
      "1010 ,\n",
      "6187 ca\n",
      "28791 marche\n",
      "2002 he\n",
      "2632 al\n",
      "5668 ##ors\n",
      "1012 .\n",
      "100 [UNK]\n",
      "100 [UNK]\n",
      "100 [UNK]\n",
      "100 [UNK]\n",
      "100 [UNK]\n",
      "100 [UNK]\n",
      "100 [UNK]\n",
      "1916 的\n",
      "1746 中\n",
      "1861 文\n",
      "100 [UNK]\n",
      "100 [UNK]\n",
      "1796 和\n",
      "100 [UNK]\n",
      "100 [UNK]\n",
      "1750 也\n",
      "100 [UNK]\n",
      "100 [UNK]\n",
      "102 [SEP]\n"
     ]
    }
   ],
   "source": [
    "for w in encoded['input_ids'][0]:\n",
    "    print(w, tokenizer.decode([w]))"
   ]
  }
 ],
 "metadata": {
  "colab": {
   "collapsed_sections": [],
   "include_colab_link": true,
   "name": "nlpdemystified-preprocessing.ipynb",
   "private_outputs": true,
   "provenance": []
  },
  "kernelspec": {
   "display_name": "Python 3 (ipykernel)",
   "language": "python",
   "name": "python3"
  },
  "language_info": {
   "codemirror_mode": {
    "name": "ipython",
    "version": 3
   },
   "file_extension": ".py",
   "mimetype": "text/x-python",
   "name": "python",
   "nbconvert_exporter": "python",
   "pygments_lexer": "ipython3",
   "version": "3.11.6"
  }
 },
 "nbformat": 4,
 "nbformat_minor": 4
}
