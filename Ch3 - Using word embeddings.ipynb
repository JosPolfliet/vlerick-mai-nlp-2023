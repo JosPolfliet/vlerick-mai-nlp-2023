{
 "cells": [
  {
   "cell_type": "markdown",
   "metadata": {},
   "source": [
    "# Imports"
   ]
  },
  {
   "cell_type": "code",
   "execution_count": 1,
   "metadata": {},
   "outputs": [],
   "source": [
    "#!pip install sklearn matplotlib"
   ]
  },
  {
   "cell_type": "code",
   "execution_count": 1,
   "metadata": {
    "id": "8vW9svTE289D"
   },
   "outputs": [
    {
     "name": "stderr",
     "output_type": "stream",
     "text": [
      "/opt/homebrew/lib/python3.10/site-packages/tqdm/auto.py:22: TqdmWarning: IProgress not found. Please update jupyter and ipywidgets. See https://ipywidgets.readthedocs.io/en/stable/user_install.html\n",
      "  from .autonotebook import tqdm as notebook_tqdm\n"
     ]
    }
   ],
   "source": [
    "import spacy\n",
    "import pandas as pd\n",
    "import numpy as np\n",
    "import string\n",
    "from spacy.lang.en.stop_words import STOP_WORDS\n",
    "from spacy.lang.en import English\n",
    "from spacy.vectors import Vectors\n",
    "from tqdm import tqdm\n",
    "tqdm.pandas()"
   ]
  },
  {
   "cell_type": "markdown",
   "metadata": {},
   "source": [
    "## Get data"
   ]
  },
  {
   "cell_type": "code",
   "execution_count": 20,
   "metadata": {},
   "outputs": [
    {
     "data": {
      "text/html": [
       "<div>\n",
       "<style scoped>\n",
       "    .dataframe tbody tr th:only-of-type {\n",
       "        vertical-align: middle;\n",
       "    }\n",
       "\n",
       "    .dataframe tbody tr th {\n",
       "        vertical-align: top;\n",
       "    }\n",
       "\n",
       "    .dataframe thead th {\n",
       "        text-align: right;\n",
       "    }\n",
       "</style>\n",
       "<table border=\"1\" class=\"dataframe\">\n",
       "  <thead>\n",
       "    <tr style=\"text-align: right;\">\n",
       "      <th></th>\n",
       "      <th>title</th>\n",
       "      <th>score</th>\n",
       "      <th>id</th>\n",
       "      <th>url</th>\n",
       "      <th>comms_num</th>\n",
       "      <th>created</th>\n",
       "      <th>body</th>\n",
       "      <th>timestamp</th>\n",
       "      <th>text</th>\n",
       "      <th>sentiment</th>\n",
       "    </tr>\n",
       "  </thead>\n",
       "  <tbody>\n",
       "    <tr>\n",
       "      <th>0</th>\n",
       "      <td>It's not about the money, it's about sending a...</td>\n",
       "      <td>55</td>\n",
       "      <td>l6ulcx</td>\n",
       "      <td>https://v.redd.it/6j75regs72e61</td>\n",
       "      <td>6</td>\n",
       "      <td>2021-01-28 19:37:41</td>\n",
       "      <td>NaN</td>\n",
       "      <td>2021-01-28 21:37:41</td>\n",
       "      <td>It's not about the money, it's about sending a...</td>\n",
       "      <td>0.0000</td>\n",
       "    </tr>\n",
       "    <tr>\n",
       "      <th>1</th>\n",
       "      <td>Math Professor Scott Steiner says the numbers ...</td>\n",
       "      <td>110</td>\n",
       "      <td>l6uibd</td>\n",
       "      <td>https://v.redd.it/ah50lyny62e61</td>\n",
       "      <td>23</td>\n",
       "      <td>2021-01-28 19:32:10</td>\n",
       "      <td>NaN</td>\n",
       "      <td>2021-01-28 21:32:10</td>\n",
       "      <td>Math Professor Scott Steiner says the numbers ...</td>\n",
       "      <td>-0.7034</td>\n",
       "    </tr>\n",
       "    <tr>\n",
       "      <th>2</th>\n",
       "      <td>Exit the system</td>\n",
       "      <td>0</td>\n",
       "      <td>l6uhhn</td>\n",
       "      <td>https://www.reddit.com/r/wallstreetbets/commen...</td>\n",
       "      <td>47</td>\n",
       "      <td>2021-01-28 19:30:35</td>\n",
       "      <td>The CEO of NASDAQ pushed to halt trading “to g...</td>\n",
       "      <td>2021-01-28 21:30:35</td>\n",
       "      <td>Exit the system ### The CEO of NASDAQ pushed t...</td>\n",
       "      <td>-0.4199</td>\n",
       "    </tr>\n",
       "    <tr>\n",
       "      <th>3</th>\n",
       "      <td>NEW SEC FILING FOR GME! CAN SOMEONE LESS RETAR...</td>\n",
       "      <td>29</td>\n",
       "      <td>l6ugk6</td>\n",
       "      <td>https://sec.report/Document/0001193125-21-019848/</td>\n",
       "      <td>74</td>\n",
       "      <td>2021-01-28 19:28:57</td>\n",
       "      <td>NaN</td>\n",
       "      <td>2021-01-28 21:28:57</td>\n",
       "      <td>NEW SEC FILING FOR GME! CAN SOMEONE LESS RETAR...</td>\n",
       "      <td>-0.4822</td>\n",
       "    </tr>\n",
       "    <tr>\n",
       "      <th>4</th>\n",
       "      <td>Not to distract from GME, just thought our AMC...</td>\n",
       "      <td>71</td>\n",
       "      <td>l6ufgy</td>\n",
       "      <td>https://i.redd.it/4h2sukb662e61.jpg</td>\n",
       "      <td>156</td>\n",
       "      <td>2021-01-28 19:26:56</td>\n",
       "      <td>NaN</td>\n",
       "      <td>2021-01-28 21:26:56</td>\n",
       "      <td>Not to distract from GME, just thought our AMC...</td>\n",
       "      <td>0.2235</td>\n",
       "    </tr>\n",
       "  </tbody>\n",
       "</table>\n",
       "</div>"
      ],
      "text/plain": [
       "                                               title  score      id  \\\n",
       "0  It's not about the money, it's about sending a...     55  l6ulcx   \n",
       "1  Math Professor Scott Steiner says the numbers ...    110  l6uibd   \n",
       "2                                    Exit the system      0  l6uhhn   \n",
       "3  NEW SEC FILING FOR GME! CAN SOMEONE LESS RETAR...     29  l6ugk6   \n",
       "4  Not to distract from GME, just thought our AMC...     71  l6ufgy   \n",
       "\n",
       "                                                 url  comms_num  \\\n",
       "0                    https://v.redd.it/6j75regs72e61          6   \n",
       "1                    https://v.redd.it/ah50lyny62e61         23   \n",
       "2  https://www.reddit.com/r/wallstreetbets/commen...         47   \n",
       "3  https://sec.report/Document/0001193125-21-019848/         74   \n",
       "4                https://i.redd.it/4h2sukb662e61.jpg        156   \n",
       "\n",
       "              created                                               body  \\\n",
       "0 2021-01-28 19:37:41                                                NaN   \n",
       "1 2021-01-28 19:32:10                                                NaN   \n",
       "2 2021-01-28 19:30:35  The CEO of NASDAQ pushed to halt trading “to g...   \n",
       "3 2021-01-28 19:28:57                                                NaN   \n",
       "4 2021-01-28 19:26:56                                                NaN   \n",
       "\n",
       "             timestamp                                               text  \\\n",
       "0  2021-01-28 21:37:41  It's not about the money, it's about sending a...   \n",
       "1  2021-01-28 21:32:10  Math Professor Scott Steiner says the numbers ...   \n",
       "2  2021-01-28 21:30:35  Exit the system ### The CEO of NASDAQ pushed t...   \n",
       "3  2021-01-28 21:28:57  NEW SEC FILING FOR GME! CAN SOMEONE LESS RETAR...   \n",
       "4  2021-01-28 21:26:56  Not to distract from GME, just thought our AMC...   \n",
       "\n",
       "   sentiment  \n",
       "0     0.0000  \n",
       "1    -0.7034  \n",
       "2    -0.4199  \n",
       "3    -0.4822  \n",
       "4     0.2235  "
      ]
     },
     "execution_count": 20,
     "metadata": {},
     "output_type": "execute_result"
    }
   ],
   "source": [
    "df = pd.read_pickle(\"DATA/reddit_wsb_sentiment.pkl\").head(1000)\n",
    "df['created'] = pd.to_datetime(df['created'], unit=\"s\")\n",
    "titles = df[\"title\"]\n",
    "bodies = df[\"body\"].dropna()\n",
    "df[\"text\"] = df[\"title\"].str.cat(df[\"body\"], sep=\" ### \", na_rep=\"(Empty body)\")\n",
    "\n",
    "df.head()"
   ]
  },
  {
   "cell_type": "markdown",
   "metadata": {},
   "source": [
    "We'll use the following example sentence"
   ]
  },
  {
   "cell_type": "code",
   "execution_count": 21,
   "metadata": {},
   "outputs": [
    {
     "data": {
      "text/plain": [
       "'420 wasn’t a meme. GME 🚀 🚀 🚀 ### (Empty body)'"
      ]
     },
     "execution_count": 21,
     "metadata": {},
     "output_type": "execute_result"
    }
   ],
   "source": [
    "sentence = df[\"text\"].iloc[15]\n",
    "sentence"
   ]
  },
  {
   "cell_type": "markdown",
   "metadata": {},
   "source": [
    "# Calculate simple target"
   ]
  },
  {
   "cell_type": "code",
   "execution_count": 22,
   "metadata": {},
   "outputs": [
    {
     "data": {
      "text/plain": [
       "neutral     401\n",
       "negative    300\n",
       "positive    299\n",
       "Name: sentiment_category, dtype: int64"
      ]
     },
     "execution_count": 22,
     "metadata": {},
     "output_type": "execute_result"
    }
   ],
   "source": [
    "df[\"sentiment_category\"] = pd.qcut(df[\"sentiment\"],[0,0.3,0.7,1], labels=[\"negative\", \"neutral\", \"positive\"])\n",
    "df[\"sentiment_category\"].value_counts()"
   ]
  },
  {
   "cell_type": "markdown",
   "metadata": {},
   "source": [
    "## Clean data"
   ]
  },
  {
   "cell_type": "code",
   "execution_count": 23,
   "metadata": {},
   "outputs": [
    {
     "data": {
      "text/plain": [
       "['420', 'meme', 'gme', '🚀', '🚀', '🚀', 'body']"
      ]
     },
     "execution_count": 23,
     "metadata": {},
     "output_type": "execute_result"
    }
   ],
   "source": [
    "punctuations = string.punctuation\n",
    "\n",
    "nlp = spacy.load('en_core_web_md')\n",
    "stop_words = spacy.lang.en.stop_words.STOP_WORDS\n",
    "\n",
    "def spacy_tokenizer(sentence):\n",
    "    # Creating our token object, which is used to create documents with linguistic annotations.\n",
    "    mytokens = nlp(sentence)\n",
    "\n",
    "    # Lemmatise + lower case\n",
    "    mytokens = [ word.lemma_.lower().strip() if word.lemma_ != \"-PRON-\" else word.lower_ for word in mytokens ]\n",
    "\n",
    "    # Remove stop words\n",
    "    mytokens = [ word for word in mytokens if word not in stop_words and word not in punctuations ]\n",
    "\n",
    "    return mytokens\n",
    "\n",
    "spacy_tokenizer(sentence)"
   ]
  },
  {
   "cell_type": "code",
   "execution_count": 24,
   "metadata": {},
   "outputs": [
    {
     "name": "stdout",
     "output_type": "stream",
     "text": [
      "[[ -1.3111    -2.2037     0.65573  ...   2.6366    -1.0796     5.2409  ]\n",
      " [  1.799      0.067666   1.1057   ...   1.0487    -3.508     -1.0316  ]\n",
      " [ -4.5944    -1.4746     0.51068  ...  -3.5714     3.0194    -0.11818 ]\n",
      " ...\n",
      " [  1.7872    -8.747     -1.8549   ...  -3.3436     4.5346     6.3035  ]\n",
      " [  1.7872    -8.747     -1.8549   ...  -3.3436     4.5346     6.3035  ]\n",
      " [  0.49034    0.11765  -10.686    ...  -0.25644   -0.87749    2.2443  ]]\n",
      "(7, 300)\n"
     ]
    }
   ],
   "source": [
    "def embed_words(sentence):\n",
    "    tokens = spacy_tokenizer(sentence)\n",
    "    return nlp.vocab.vectors.get_batch(tokens)\n",
    "\n",
    "word_embeddings = embed_words(sentence)\n",
    "print(word_embeddings)\n",
    "print(word_embeddings.shape)"
   ]
  },
  {
   "cell_type": "markdown",
   "metadata": {},
   "source": [
    "## Simple model: just average the words"
   ]
  },
  {
   "cell_type": "code",
   "execution_count": 56,
   "metadata": {},
   "outputs": [
    {
     "data": {
      "text/plain": [
       "0"
      ]
     },
     "execution_count": 56,
     "metadata": {},
     "output_type": "execute_result"
    }
   ],
   "source": []
  },
  {
   "cell_type": "code",
   "execution_count": 59,
   "metadata": {},
   "outputs": [
    {
     "name": "stdout",
     "output_type": "stream",
     "text": [
      "[ -4.59439993  -8.74699974 -10.68599987 -11.42800045  -1.23469996\n",
      "  -2.34879994  -0.40612     -1.25080001  -1.97570002  -2.98029995\n",
      "  -5.47860003  -4.21600008  -5.50719976  -1.1631      -4.72900009\n",
      "  -4.80380011  -0.86168998  -6.58769989  -5.30740023  -8.11699963\n",
      "  -3.16149998  -0.73079002  -3.83049989  -9.00829983  -3.5632\n",
      "  -7.61359978  -3.7901001   -3.78419995  -3.68420005  -5.78879976\n",
      "  -5.75699997  -4.82070017  -5.51039982  -8.31389999  -2.02880001\n",
      "  -4.14459991  -2.54949999  -5.42030001  -0.38593999  -4.39459991\n",
      "  -2.19129992  -6.22730017  -4.78350019  -2.33520007  -1.28970003\n",
      "  -0.80923998  -4.66550016  -3.28180003  -7.42089987  -3.76200008\n",
      "  -5.42309999  -3.07399988  -9.77840042  -2.88630009  -1.47090006\n",
      "  -3.3368001   -3.0165       0.79370999  -3.06529999  -0.96210003\n",
      "  -3.65079999  -1.71619999  -7.98339987  -2.57969999  -5.96659994\n",
      "  -5.76030016  -7.4229002   -7.72679996   0.080463    -1.99249995\n",
      "  -5.87559986  -2.08310008  -1.45150006  -1.13279998  -1.49950004\n",
      "  -2.68560004  -8.89379978  -1.37039995  -6.58459997  -6.44000006\n",
      "  -4.88749981  -8.44190025   0.023308    -4.43209982  -8.28719997\n",
      "  -4.79650021  -1.90530002  -0.57986999  -3.52929997  -4.81750011\n",
      "  -3.16429996  -0.83149999  -6.81799984  -5.32410002 -10.04699993\n",
      "  -1.33770001  -0.25826001  -3.88890004  -7.76900005  -8.34689999\n",
      "  -5.38040018  -0.92637002  -1.5783      -3.13080001  -3.47410011\n",
      "  -1.68859994  -3.74979997  -6.89970016  -0.92035002  -7.79150009\n",
      "  -2.5223      -4.81190014  -0.85690999  -1.74100006  -1.46200001\n",
      "  -9.61009979  -4.27600002  -2.41700006  -7.06020021  -9.0078001\n",
      "  -6.66450024  -2.8894999   -1.00230002  -0.45982     -5.06939983\n",
      "  -9.48279953  -4.06279993  -2.2019999   -6.27019978  -8.55389977\n",
      "  -3.95619988  -3.30279994  -4.44250011  -2.12339997  -4.92659998\n",
      "  -3.65030003  -2.02780008  -6.16709995  -4.49420023  -2.602\n",
      "  -2.89639997  -5.70800018   0.026791    -3.16190004  -2.16770005\n",
      "  -3.95160007 -11.2329998   -8.59490013  -1.61399996  -0.16232\n",
      "  -0.32723999  -1.12020004  -6.79190016 -12.04199982  -2.90899992\n",
      "  -4.82620001  -4.14639997  -4.39340019  -1.65289998  -0.97162002\n",
      "  -1.28209996  -4.86819983  -0.53123999  -1.33430004  -3.34109998\n",
      "  -4.06479979  -5.31610012 -10.86400032  -1.89110005  -9.65789986\n",
      " -10.48900032  -2.72989988  -3.09170008  -4.71820021  -3.2348001\n",
      " -10.11999989  -1.44790006  -3.30180001  -3.35879993  -6.34000015\n",
      "  -2.99799991  -6.53100014  -8.99600029  -5.34369993  -9.68330002\n",
      "  -2.26929998  -4.7052002   -7.88730001  -3.76810002  -6.96619987\n",
      "  -3.2118001   -2.5783999   -3.02810001  -5.09980011  -4.46700001\n",
      "  -1.49030006  -4.63570023  -1.7256      -5.9552002  -10.34300041\n",
      "  -6.74359989  -5.10129976  -9.66170025  -2.79959989  -7.29440022\n",
      "  -3.58389997  -5.74459982  -0.95543998  -4.73129988  -7.44560003\n",
      "  -3.07089996  -0.66566998  -1.40610003  -3.22280002  -6.61289978\n",
      "  -3.00099993  -1.11689997 -11.26099968  -0.85307997  -3.33279991\n",
      "  -4.12659979  -3.36199999  -5.34849977  -2.22390008  -3.54419994\n",
      "  -5.88670015   0.54121     -4.69129992  -6.04199982  -4.44969988\n",
      "  -2.71709991  -5.35059977  -3.77659988  -3.19160008  -6.96280003\n",
      "  -4.44430017  -2.19390011  -0.94541001  -2.21169996  -2.85010004\n",
      "  -2.5322001   -5.80819988  -8.67920017  -6.66709995  -8.95030022\n",
      "  -4.34980011  -6.45440006  -2.93849993  -0.1115      -1.41410005\n",
      "  -2.56060004  -6.86870003  -3.77929997  -7.73680019  -3.55010009\n",
      "  -7.28690004  -2.0237      -3.87409997  -4.74970007  -3.8836\n",
      "  -0.30511001  -5.13469982  -1.04639995  -4.20790005  -2.4848001\n",
      "  -5.77619982  -4.1717      -0.96511     -3.96650004  -6.125\n",
      "  -7.69640017  -3.1091001   -6.07259989  -3.1552999   -2.30240011\n",
      "  -4.00250006  -1.78139997  -2.56949997  -1.62899995  -2.27690005\n",
      "  -4.48939991  -6.61159992  -3.86520004  -7.26219988  -2.42689991\n",
      "  -1.36829996  -1.21130002  -3.6868999   -8.3980999   -4.10370016\n",
      "   0.72271001  -3.93079996  -3.06069994  -7.33330011  -4.37580013\n",
      "  -2.25760007  -2.99309993  -3.57139993  -3.5079999   -1.0316\n",
      "   1.79900002   0.11765      1.10570002  -0.43845999   3.16540003\n",
      "  14.90699959   3.53010011   5.81790018   1.41649997   1.7493\n",
      "   9.32989979   3.78649998  -0.20431      8.95250034   4.01200008\n",
      "   3.12229991   2.70650005   2.62809992   1.64699996   2.25830007\n",
      "   3.2816999    5.98960018   1.77699995   3.4763       0.097481\n",
      "   4.24329996   4.94740009  12.4989996    4.06790018   4.49510002\n",
      "   6.48869991   2.25929999   3.70889997   5.19990015   7.38560009\n",
      "  -0.13966      3.47359991   5.19309998   2.01889992   2.83820009\n",
      "   6.67089987   3.7249999    1.97220004   3.83189988   3.94980001\n",
      "   5.60790014   6.80859995   4.17439985   4.15560007   4.84679985\n",
      "   4.82539988   6.93499994   3.92319989  -0.44822001   7.3348999\n",
      "   3.37789989   7.99730015   5.43900013   1.78100002   9.7638998\n",
      "   4.69980001   4.41909981   1.24860001   3.45490003   3.25180006\n",
      "   4.75199986   2.70679998   3.87170005   5.20650005   4.49389982\n",
      "   0.76626003  10.94200039   3.29279995   2.38310003   2.12919998\n",
      "   3.52469993   1.99549997   1.04499996   1.57780004   1.41869998\n",
      "   5.89769983   5.05060005   4.03700018   2.45149994   1.84329998\n",
      "   4.17089987   3.60949993   3.94090009   0.86598003   4.69430017\n",
      "   7.47529984  12.44099998   7.40959978   1.52909994   2.01180005\n",
      "   7.94999981   6.1573       3.15610003   1.41649997   0.2318\n",
      "   2.12789989   5.47310019   5.03249979   1.98090005   8.12650013\n",
      "   3.54929996   8.04150009   3.83069992   3.67630005   1.77960002\n",
      "   5.50150013   0.99945998   3.88080001   2.51259995   3.25219989\n",
      "   5.09630013   1.19190001   4.83510017   4.86899996   0.64577001\n",
      "   0.75733      6.05700016   7.26429987   6.90380001  10.11400032\n",
      "   0.47565001   4.87020016   3.0236001    5.51499987   1.14750004\n",
      "   3.45639992   2.44490004   5.92250013   5.60440016   1.70490003\n",
      "   8.1335001    7.52409983   1.77489996   3.47589993   8.43220043\n",
      "   2.08089995   6.18170023  10.93700027   6.46670008   3.10220003\n",
      "   4.04300022   4.0788002    5.41099977   4.92649984   3.26430011\n",
      "   8.38440037   4.82399988   2.37319994   1.57570004   5.15649986\n",
      "   5.46320009   3.75239992   4.19159985   3.42750001   5.01270008\n",
      "   3.67129993   2.06489992   7.35319996   1.67309999   1.36950004\n",
      "   4.86429977  -0.054772     1.64339995   1.71860003   2.37190008\n",
      "   2.9525001    1.88429999   0.59525001   1.66910005   6.34320021\n",
      "   9.00150013   4.44500017   2.14359999   7.92539978   2.03329992\n",
      "   9.88949966   2.07139993   7.12270021  -1.046        4.33790016\n",
      "   4.58059978   3.27099991   0.65588999   3.71320009   3.93639994\n",
      "   2.71720004   4.18030024   3.53539991   8.46899986   3.35529995\n",
      "   5.05810022   0.56129998   5.36240005   2.12140012   4.75689983\n",
      "  -2.04780006   1.11090004   3.76679993   2.95009995   2.75810003\n",
      "   1.87189996  -0.030291     9.69050026  11.31099987   2.6479001\n",
      "   6.52510023   6.44910002   3.48650002   6.67299986   1.96780002\n",
      "   3.28489995   6.66580009  -3.63630009   8.58380032   5.51420021\n",
      "   5.20909977   1.82159996   1.07910001   1.921        7.55569983\n",
      "   9.1722002    5.27710009   3.13669991   8.86419964  -0.40129\n",
      "   2.54590011  -1.06599998   1.10810006   8.13399982   2.97009993\n",
      "   4.26830006   1.2184       6.49109983   4.10979986   1.49450004\n",
      "   3.71740007   0.054263     4.58769989   0.15389      2.5559001\n",
      "   2.23869991   3.09290004   3.20840001   3.67120004   4.02479982\n",
      "   1.54330003   0.47146001   0.44914001   2.5402       7.2189002\n",
      "   0.41951001   1.13390005   4.57980013   4.29419994   4.01789999\n",
      "   4.27780008   8.76019955   5.55380011   1.21000004   4.31580019\n",
      "   7.32989979   0.60360998   3.35229993   1.18589997   3.54929996\n",
      "   3.86019993   2.23740005   1.82070005   2.10039997   5.05100012\n",
      "   1.89240003   2.48659992   5.82929993   1.09179997   4.10200024\n",
      "   3.51489997   1.31040001   8.08300018   3.01629996  14.73400021\n",
      "   1.9289       6.21369982   2.82010007   2.1480999    1.19879997\n",
      "   6.39580011   2.62450004   3.97740006   2.16129994   3.40249991\n",
      "  11.28199959   5.01870012   2.63660002   4.53459978   6.30350018\n",
      "   7.           0.        ]\n",
      "(602,)\n"
     ]
    }
   ],
   "source": [
    "def embed_sentence_simple(sentence):\n",
    "    \"\"\"\n",
    "    This is the part where you can go crazy and complex to add features, change aggregation way, use PCA, ...\n",
    "    \"\"\"\n",
    "    word_embeddings = embed_words(sentence)\n",
    "    sentence_embedding = np.concatenate([word_embeddings.min(axis=0), \n",
    "                                         word_embeddings.max(axis=0), \n",
    "                                         [embed_words(sentence).shape[0], \n",
    "                                         len([token for token in nlp(sentence) if token.is_oov])]])\n",
    "    # sentence_embedding = np.concatenate(word_embeddings.min(axis=0), word_embeddings.max(axis=0))\n",
    "    # sentence_embedding = word_embeddings.mean(axis=0)\n",
    "    return sentence_embedding\n",
    "\n",
    "sentence_embedding = embed_sentence_simple(sentence)\n",
    "print(sentence_embedding)\n",
    "print(sentence_embedding.shape)"
   ]
  },
  {
   "cell_type": "code",
   "execution_count": 60,
   "metadata": {},
   "outputs": [
    {
     "name": "stderr",
     "output_type": "stream",
     "text": [
      "100%|███████████████████████████████████████| 1000/1000 [00:50<00:00, 19.71it/s]"
     ]
    },
    {
     "name": "stdout",
     "output_type": "stream",
     "text": [
      "CPU times: user 49.5 s, sys: 1.23 s, total: 50.7 s\n",
      "Wall time: 50.7 s\n"
     ]
    },
    {
     "name": "stderr",
     "output_type": "stream",
     "text": [
      "\n"
     ]
    }
   ],
   "source": [
    "%%time\n",
    "\n",
    "df[\"features_simple\"] = df[\"text\"].progress_map(embed_sentence_simple)\n",
    "\n",
    "# Takes ~20 minutes so we cache the results now.\n",
    "# df.to_pickle(\"DATA/reddit_wsb_sentiment_features.pkl\")"
   ]
  },
  {
   "cell_type": "code",
   "execution_count": 10,
   "metadata": {},
   "outputs": [],
   "source": [
    "# Load cached results\n",
    "# df = pd.read_pickle(\"DATA/reddit_wsb_sentiment_features.pkl\")"
   ]
  },
  {
   "cell_type": "markdown",
   "metadata": {},
   "source": [
    "## Classify"
   ]
  },
  {
   "cell_type": "code",
   "execution_count": 61,
   "metadata": {},
   "outputs": [
    {
     "data": {
      "text/plain": [
       "(1000, 602)"
      ]
     },
     "execution_count": 61,
     "metadata": {},
     "output_type": "execute_result"
    }
   ],
   "source": [
    "X = np.stack(df[\"features_simple\"].values)\n",
    "X.shape"
   ]
  },
  {
   "cell_type": "code",
   "execution_count": 62,
   "metadata": {},
   "outputs": [],
   "source": [
    "y = df[\"sentiment_category\"]"
   ]
  },
  {
   "cell_type": "code",
   "execution_count": 63,
   "metadata": {},
   "outputs": [],
   "source": [
    "from sklearn.model_selection import train_test_split"
   ]
  },
  {
   "cell_type": "code",
   "execution_count": 64,
   "metadata": {},
   "outputs": [
    {
     "name": "stdout",
     "output_type": "stream",
     "text": [
      "X_train shape: (750, 602)\n",
      "X_test shape: (250, 602)\n",
      "y_train shape: (750,)\n",
      "y_test shape: (250,)\n"
     ]
    }
   ],
   "source": [
    "X_train, X_test, y_train, y_test = train_test_split(X, y, random_state=22141)\n",
    "print(f\"X_train shape: {X_train.shape}\")\n",
    "print(f\"X_test shape: {X_test.shape}\")\n",
    "print(f\"y_train shape: {y_train.shape}\")\n",
    "print(f\"y_test shape: {y_test.shape}\")\n",
    "\n"
   ]
  },
  {
   "cell_type": "code",
   "execution_count": 68,
   "metadata": {},
   "outputs": [
    {
     "name": "stdout",
     "output_type": "stream",
     "text": [
      "CPU times: user 406 ms, sys: 6.41 ms, total: 413 ms\n",
      "Wall time: 414 ms\n"
     ]
    },
    {
     "data": {
      "text/html": [
       "<style>#sk-container-id-4 {color: black;background-color: white;}#sk-container-id-4 pre{padding: 0;}#sk-container-id-4 div.sk-toggleable {background-color: white;}#sk-container-id-4 label.sk-toggleable__label {cursor: pointer;display: block;width: 100%;margin-bottom: 0;padding: 0.3em;box-sizing: border-box;text-align: center;}#sk-container-id-4 label.sk-toggleable__label-arrow:before {content: \"▸\";float: left;margin-right: 0.25em;color: #696969;}#sk-container-id-4 label.sk-toggleable__label-arrow:hover:before {color: black;}#sk-container-id-4 div.sk-estimator:hover label.sk-toggleable__label-arrow:before {color: black;}#sk-container-id-4 div.sk-toggleable__content {max-height: 0;max-width: 0;overflow: hidden;text-align: left;background-color: #f0f8ff;}#sk-container-id-4 div.sk-toggleable__content pre {margin: 0.2em;color: black;border-radius: 0.25em;background-color: #f0f8ff;}#sk-container-id-4 input.sk-toggleable__control:checked~div.sk-toggleable__content {max-height: 200px;max-width: 100%;overflow: auto;}#sk-container-id-4 input.sk-toggleable__control:checked~label.sk-toggleable__label-arrow:before {content: \"▾\";}#sk-container-id-4 div.sk-estimator input.sk-toggleable__control:checked~label.sk-toggleable__label {background-color: #d4ebff;}#sk-container-id-4 div.sk-label input.sk-toggleable__control:checked~label.sk-toggleable__label {background-color: #d4ebff;}#sk-container-id-4 input.sk-hidden--visually {border: 0;clip: rect(1px 1px 1px 1px);clip: rect(1px, 1px, 1px, 1px);height: 1px;margin: -1px;overflow: hidden;padding: 0;position: absolute;width: 1px;}#sk-container-id-4 div.sk-estimator {font-family: monospace;background-color: #f0f8ff;border: 1px dotted black;border-radius: 0.25em;box-sizing: border-box;margin-bottom: 0.5em;}#sk-container-id-4 div.sk-estimator:hover {background-color: #d4ebff;}#sk-container-id-4 div.sk-parallel-item::after {content: \"\";width: 100%;border-bottom: 1px solid gray;flex-grow: 1;}#sk-container-id-4 div.sk-label:hover label.sk-toggleable__label {background-color: #d4ebff;}#sk-container-id-4 div.sk-serial::before {content: \"\";position: absolute;border-left: 1px solid gray;box-sizing: border-box;top: 0;bottom: 0;left: 50%;z-index: 0;}#sk-container-id-4 div.sk-serial {display: flex;flex-direction: column;align-items: center;background-color: white;padding-right: 0.2em;padding-left: 0.2em;position: relative;}#sk-container-id-4 div.sk-item {position: relative;z-index: 1;}#sk-container-id-4 div.sk-parallel {display: flex;align-items: stretch;justify-content: center;background-color: white;position: relative;}#sk-container-id-4 div.sk-item::before, #sk-container-id-4 div.sk-parallel-item::before {content: \"\";position: absolute;border-left: 1px solid gray;box-sizing: border-box;top: 0;bottom: 0;left: 50%;z-index: -1;}#sk-container-id-4 div.sk-parallel-item {display: flex;flex-direction: column;z-index: 1;position: relative;background-color: white;}#sk-container-id-4 div.sk-parallel-item:first-child::after {align-self: flex-end;width: 50%;}#sk-container-id-4 div.sk-parallel-item:last-child::after {align-self: flex-start;width: 50%;}#sk-container-id-4 div.sk-parallel-item:only-child::after {width: 0;}#sk-container-id-4 div.sk-dashed-wrapped {border: 1px dashed gray;margin: 0 0.4em 0.5em 0.4em;box-sizing: border-box;padding-bottom: 0.4em;background-color: white;}#sk-container-id-4 div.sk-label label {font-family: monospace;font-weight: bold;display: inline-block;line-height: 1.2em;}#sk-container-id-4 div.sk-label-container {text-align: center;}#sk-container-id-4 div.sk-container {/* jupyter's `normalize.less` sets `[hidden] { display: none; }` but bootstrap.min.css set `[hidden] { display: none !important; }` so we also need the `!important` here to be able to override the default hidden behavior on the sphinx rendered scikit-learn.org. See: https://github.com/scikit-learn/scikit-learn/issues/21755 */display: inline-block !important;position: relative;}#sk-container-id-4 div.sk-text-repr-fallback {display: none;}</style><div id=\"sk-container-id-4\" class=\"sk-top-container\"><div class=\"sk-text-repr-fallback\"><pre>RandomForestClassifier(class_weight=&#x27;balanced&#x27;, max_depth=2, n_estimators=300,\n",
       "                       random_state=22141)</pre><b>In a Jupyter environment, please rerun this cell to show the HTML representation or trust the notebook. <br />On GitHub, the HTML representation is unable to render, please try loading this page with nbviewer.org.</b></div><div class=\"sk-container\" hidden><div class=\"sk-item\"><div class=\"sk-estimator sk-toggleable\"><input class=\"sk-toggleable__control sk-hidden--visually\" id=\"sk-estimator-id-4\" type=\"checkbox\" checked><label for=\"sk-estimator-id-4\" class=\"sk-toggleable__label sk-toggleable__label-arrow\">RandomForestClassifier</label><div class=\"sk-toggleable__content\"><pre>RandomForestClassifier(class_weight=&#x27;balanced&#x27;, max_depth=2, n_estimators=300,\n",
       "                       random_state=22141)</pre></div></div></div></div></div>"
      ],
      "text/plain": [
       "RandomForestClassifier(class_weight='balanced', max_depth=2, n_estimators=300,\n",
       "                       random_state=22141)"
      ]
     },
     "execution_count": 68,
     "metadata": {},
     "output_type": "execute_result"
    }
   ],
   "source": [
    "%%time\n",
    "from sklearn.ensemble import RandomForestClassifier\n",
    "from sklearn.datasets import make_classification\n",
    "\n",
    "clf = RandomForestClassifier(max_depth=2, random_state=22141, class_weight=\"balanced\", n_estimators=300)\n",
    "clf.fit(X_train, y_train)\n",
    "\n"
   ]
  },
  {
   "cell_type": "markdown",
   "metadata": {},
   "source": [
    "## Evaluate"
   ]
  },
  {
   "cell_type": "code",
   "execution_count": 69,
   "metadata": {},
   "outputs": [],
   "source": [
    "\n",
    "predictions = clf.predict(X_test)"
   ]
  },
  {
   "cell_type": "code",
   "execution_count": 70,
   "metadata": {},
   "outputs": [
    {
     "name": "stdout",
     "output_type": "stream",
     "text": [
      "              precision    recall  f1-score   support\n",
      "\n",
      "    negative       0.40      0.31      0.35        71\n",
      "     neutral       0.66      0.64      0.65       110\n",
      "    positive       0.47      0.61      0.53        69\n",
      "\n",
      "    accuracy                           0.54       250\n",
      "   macro avg       0.51      0.52      0.51       250\n",
      "weighted avg       0.53      0.54      0.53       250\n",
      "\n"
     ]
    },
    {
     "data": {
      "image/png": "[encoded data removed]",
      "text/plain": [
       "<Figure size 800x500 with 2 Axes>"
      ]
     },
     "metadata": {},
     "output_type": "display_data"
    }
   ],
   "source": [
    "from matplotlib import pyplot as plt\n",
    "from sklearn.metrics import classification_report\n",
    "from sklearn.metrics import ConfusionMatrixDisplay, confusion_matrix\n",
    "print(classification_report(y_test, predictions))\n",
    "# Plot confusion matrix\n",
    "fig, ax = plt.subplots(figsize=(8, 5))\n",
    "cmp = ConfusionMatrixDisplay(\n",
    "    confusion_matrix(y_test, predictions),\n",
    "    display_labels=clf.classes_,\n",
    ")\n",
    "\n",
    "cmp.plot(ax=ax)\n",
    "plt.show();"
   ]
  },
  {
   "cell_type": "markdown",
   "metadata": {},
   "source": [
    "## What's next?\n",
    "\n",
    "The example above is to illustrate the theory of embeddings. In reality, you can build pipelines super easily with SpaCy (if you prioritize speed) or HuggingFace transfomers (if you prioritize accuracy)\n",
    "\n",
    "https://medium.com/@ycouble/training-and-integrating-a-custom-text-classifier-to-a-spacy-pipeline-b19e6a132487"
   ]
  },
  {
   "cell_type": "code",
   "execution_count": null,
   "metadata": {},
   "outputs": [],
   "source": []
  }
 ],
 "metadata": {
  "colab": {
   "collapsed_sections": [],
   "include_colab_link": true,
   "name": "nlpdemystified-preprocessing.ipynb",
   "private_outputs": true,
   "provenance": []
  },
  "kernelspec": {
   "display_name": "Python 3 (ipykernel)",
   "language": "python",
   "name": "python3"
  },
  "language_info": {
   "codemirror_mode": {
    "name": "ipython",
    "version": 3
   },
   "file_extension": ".py",
   "mimetype": "text/x-python",
   "name": "python",
   "nbconvert_exporter": "python",
   "pygments_lexer": "ipython3",
   "version": "3.11.6"
  }
 },
 "nbformat": 4,
 "nbformat_minor": 4
}
