{
 "cells": [
  {
   "cell_type": "markdown",
   "metadata": {},
   "source": [
    "# Imports and installs"
   ]
  },
  {
   "cell_type": "code",
   "execution_count": 1,
   "metadata": {},
   "outputs": [
    {
     "name": "stderr",
     "output_type": "stream",
     "text": [
      "/opt/homebrew/lib/python3.11/site-packages/tqdm/auto.py:21: TqdmWarning: IProgress not found. Please update jupyter and ipywidgets. See https://ipywidgets.readthedocs.io/en/stable/user_install.html\n",
      "  from .autonotebook import tqdm as notebook_tqdm\n"
     ]
    }
   ],
   "source": [
    "try:\n",
    "    from mai_nlp_helper_functions import *\n",
    "except ImportError as e:\n",
    "    raise ImportError(\"You don't have the mai_nlp_helper_functions.py file in the same directory as your notebook. Either add it, or copy paste the contents in this cell\") from e\n"
   ]
  },
  {
   "cell_type": "code",
   "execution_count": 2,
   "metadata": {
    "id": "8vW9svTE289D"
   },
   "outputs": [],
   "source": [
    "import spacy\n",
    "import pandas as pd\n",
    "import numpy as np\n",
    "import string\n",
    "from spacy.lang.en.stop_words import STOP_WORDS\n",
    "from spacy.lang.en import English\n",
    "from spacy.vectors import Vectors\n",
    "from tqdm import tqdm\n",
    "from sklearn.model_selection import train_test_split\n",
    "import datetime\n",
    "\n",
    "tqdm.pandas()"
   ]
  },
  {
   "cell_type": "markdown",
   "metadata": {},
   "source": [
    "## Get data"
   ]
  },
  {
   "cell_type": "code",
   "execution_count": 3,
   "metadata": {},
   "outputs": [
    {
     "data": {
      "text/html": [
       "<div>\n",
       "<style scoped>\n",
       "    .dataframe tbody tr th:only-of-type {\n",
       "        vertical-align: middle;\n",
       "    }\n",
       "\n",
       "    .dataframe tbody tr th {\n",
       "        vertical-align: top;\n",
       "    }\n",
       "\n",
       "    .dataframe thead th {\n",
       "        text-align: right;\n",
       "    }\n",
       "</style>\n",
       "<table border=\"1\" class=\"dataframe\">\n",
       "  <thead>\n",
       "    <tr style=\"text-align: right;\">\n",
       "      <th></th>\n",
       "      <th>text</th>\n",
       "      <th>subject</th>\n",
       "    </tr>\n",
       "  </thead>\n",
       "  <tbody>\n",
       "    <tr>\n",
       "      <th>0</th>\n",
       "      <td>Since its inception in 2010, we have distribut...</td>\n",
       "      <td>Social</td>\n",
       "    </tr>\n",
       "    <tr>\n",
       "      <th>1</th>\n",
       "      <td>I will focus first on traffic, which is a key ...</td>\n",
       "      <td>Other</td>\n",
       "    </tr>\n",
       "    <tr>\n",
       "      <th>2</th>\n",
       "      <td>Also, many farms are aged with degraded soil t...</td>\n",
       "      <td>Environmental</td>\n",
       "    </tr>\n",
       "    <tr>\n",
       "      <th>3</th>\n",
       "      <td>Alaska 2009 STEWARDSHIP REPORT54 cOnSERvATIOn,...</td>\n",
       "      <td>Social</td>\n",
       "    </tr>\n",
       "    <tr>\n",
       "      <th>4</th>\n",
       "      <td>The company’s U.S. GOM operations can be impac...</td>\n",
       "      <td>Other</td>\n",
       "    </tr>\n",
       "    <tr>\n",
       "      <th>...</th>\n",
       "      <td>...</td>\n",
       "      <td>...</td>\n",
       "    </tr>\n",
       "    <tr>\n",
       "      <th>2180</th>\n",
       "      <td>American shad are a species of concern for res...</td>\n",
       "      <td>Environmental</td>\n",
       "    </tr>\n",
       "    <tr>\n",
       "      <th>2181</th>\n",
       "      <td>Weyerhaeuser's policies address best practices...</td>\n",
       "      <td>Other</td>\n",
       "    </tr>\n",
       "    <tr>\n",
       "      <th>2182</th>\n",
       "      <td>compares recently observed trends in weather p...</td>\n",
       "      <td>Environmental</td>\n",
       "    </tr>\n",
       "    <tr>\n",
       "      <th>2183</th>\n",
       "      <td>If our partners, including our licensors, suff...</td>\n",
       "      <td>Other</td>\n",
       "    </tr>\n",
       "    <tr>\n",
       "      <th>2184</th>\n",
       "      <td>Subsequently through three separate acquisitio...</td>\n",
       "      <td>Other</td>\n",
       "    </tr>\n",
       "  </tbody>\n",
       "</table>\n",
       "<p>2185 rows × 2 columns</p>\n",
       "</div>"
      ],
      "text/plain": [
       "                                                   text        subject\n",
       "0     Since its inception in 2010, we have distribut...         Social\n",
       "1     I will focus first on traffic, which is a key ...          Other\n",
       "2     Also, many farms are aged with degraded soil t...  Environmental\n",
       "3     Alaska 2009 STEWARDSHIP REPORT54 cOnSERvATIOn,...         Social\n",
       "4     The company’s U.S. GOM operations can be impac...          Other\n",
       "...                                                 ...            ...\n",
       "2180  American shad are a species of concern for res...  Environmental\n",
       "2181  Weyerhaeuser's policies address best practices...          Other\n",
       "2182  compares recently observed trends in weather p...  Environmental\n",
       "2183  If our partners, including our licensors, suff...          Other\n",
       "2184  Subsequently through three separate acquisitio...          Other\n",
       "\n",
       "[2185 rows x 2 columns]"
      ]
     },
     "execution_count": 3,
     "metadata": {},
     "output_type": "execute_result"
    }
   ],
   "source": [
    "df = pd.read_csv(\"https://raw.githubusercontent.com/JosPolfliet/vlerick-mai-nlp-2023/main/DATA/esg_reports.csv\")\n",
    "df[\"subject\"] = df[\"subject\"].fillna(\"Other\")\n",
    "df"
   ]
  },
  {
   "cell_type": "markdown",
   "metadata": {},
   "source": [
    "## Clean data"
   ]
  },
  {
   "cell_type": "code",
   "execution_count": 5,
   "metadata": {},
   "outputs": [
    {
     "name": "stdout",
     "output_type": "stream",
     "text": [
      "[[-3.0683   0.8136  -0.29935 ... -2.0391  -0.9999   1.9089 ]\n",
      " [ 0.65773 -1.1594   1.1196  ... -3.4405   2.6652   0.34709]\n",
      " [-0.58242 -1.1836  -5.4627  ...  0.27391 -2.6872   5.8941 ]\n",
      " ...\n",
      " [-3.2306   0.56394 -1.4736  ... -3.6001  -5.8731   4.4398 ]\n",
      " [-2.8209  -8.4782   0.68053 ...  3.1096   3.259   -3.3527 ]\n",
      " [-2.0586   0.34812  0.84462 ... -3.4597  -2.9688   1.4875 ]]\n",
      "(30, 300)\n"
     ]
    }
   ],
   "source": [
    "def embed_words(sentence):\n",
    "    tokens = spacy_tokenizer(sentence)\n",
    "    return nlp.vocab.vectors.get_batch(tokens)\n",
    "\n",
    "word_embeddings = embed_words(sentence)\n",
    "print(word_embeddings)\n",
    "print(word_embeddings.shape)"
   ]
  },
  {
   "cell_type": "markdown",
   "metadata": {},
   "source": [
    "## Simple model: just average the words"
   ]
  },
  {
   "cell_type": "code",
   "execution_count": 19,
   "metadata": {},
   "outputs": [
    {
     "name": "stdout",
     "output_type": "stream",
     "text": [
      "[ -4.82840014  -9.36170006  -5.46269989  -3.45910001  -0.34751999\n",
      "  -8.27120018  -1.86430001  -5.69939995  -7.04930019  -5.80170012\n",
      "  -2.0638001   -2.68070006 -16.70000076  -3.8506999   -8.82870007\n",
      "  -2.33649993  -3.79570007  -2.4203999   -5.01590014 -10.85299969\n",
      "  -5.5447998   -5.20639992  -8.55700016  -5.23579979  -8.31499958\n",
      "  -5.03270006  -6.6631999   -7.8361001   -5.7895999   -3.5453999\n",
      "  -9.61009979  -1.99899995  -8.50819969  -4.41919994  -5.66230011\n",
      "  -5.45609999  -4.2823      -6.86199999  -7.93139982  -1.27980006\n",
      "  -5.73810005  -5.19789982  -3.82019997  -2.57220006  -6.85640001\n",
      "  -2.8355999   -1.85099995  -6.39169979  -4.94500017 -11.40200043\n",
      "  -6.80569983  -6.28599977  -8.76519966  -8.99979973  -8.64929962\n",
      "  -2.01600003  -7.4854002   -3.93429995  -4.80100012  -7.59210014\n",
      "  -9.5401001   -2.19560003  -7.50339985  -9.11750031  -0.75098997\n",
      " -15.05900002  -6.10099983  -9.94390011  -7.11609983  -0.50582999\n",
      "  -5.9907999   -6.07989979  -4.93599987 -12.64700031  -5.56680012\n",
      "  -1.11399996  -6.66870022  -4.91520023  -5.16540003  -2.38980007\n",
      "  -9.0170002   -8.18089962  -3.59789991  -2.05949998  -7.06029987\n",
      "  -2.13730001 -10.02700043  -6.8046999   -2.9598999   -7.24679995\n",
      "  -5.00449991  -3.65409994  -3.58130002  -7.0151     -10.3380003\n",
      "  -4.10979986  -6.84630013  -5.18769979  -4.27510023  -7.78929996\n",
      "  -2.90860009  -7.27580023  -6.96159983  -4.47349977  -4.29129982\n",
      "   1.35179996  -5.54990005  -8.22280025  -4.84660006  -7.70079994\n",
      "  -5.2986002   -3.15960002  -8.44139957  -4.21190023  -6.99499989\n",
      "  -8.38049984  -7.11959982  -3.82430005  -6.44460011  -8.09869957\n",
      "  -4.4224      -6.23839998  -3.73029995  -4.26140022  -5.61950016\n",
      "  -8.86639977 -12.87300014  -6.35540009  -3.38700008  -6.3427\n",
      "  -8.59090042  -7.24060011 -14.21000004  -2.70120001  -2.99070001\n",
      "  -8.86750031  -7.06750011  -8.22700024  -7.58389997  -4.86689997\n",
      "  -4.15619993  -5.32450008  -8.41450024  -7.07819986  -6.17269993\n",
      "  -5.0145998   -8.80300045  -5.57289982  -8.62530041  -5.1486001\n",
      "  -5.06729984  -4.02720022  -6.89260006  -1.46850002  -5.46439981\n",
      "  -4.53399992  -1.03729999  -5.16669989  -5.20699978  -6.04799986\n",
      "  -4.51779985 -11.54399967  -3.48729992  -3.84940004  -5.44449997\n",
      "  -8.11310005  -5.21470022  -2.40560007  -3.08890009  -7.89279985\n",
      "  -4.03520012  -5.3302002   -4.19729996  -6.61240005  -6.52449989\n",
      "  -2.12619996  -5.19920015  -4.34759998  -7.11560011  -5.25439978\n",
      "  -4.48729992  -5.04969978  -4.35389996  -8.26659966  -5.63880014\n",
      "  -5.73570013  -2.79509997  -3.25469995  -7.61499977  -5.34730005\n",
      " -10.11699963  -7.40920019  -9.20499992  -8.56359959  -4.56150007\n",
      "  -6.13539982  -7.61399984  -7.67630005  -6.84940004  -4.23169994\n",
      "  -5.14830017  -4.81379986  -7.36980009  -5.45160007  -9.88000011\n",
      "  -4.13070011  -7.88479996  -5.79780006  -5.98150015  -5.38800001\n",
      "  -3.49760008  -6.1947999   -8.8508997   -6.69570017  -5.15770006\n",
      "  -5.97240019  -6.22970009  -7.43830013 -11.07299995  -5.06589985\n",
      "  -7.92329979  -4.09019995  -4.98089981  -7.76910019  -4.82079983\n",
      "  -8.18290043  -6.10440016  -2.51600003  -5.35610008  -4.69070005\n",
      "  -0.72156     -7.94099998  -4.7185998   -4.00570011  -2.3973999\n",
      "  -3.35529995  -5.3592      -2.75300002  -3.2953999   -3.1803\n",
      "  -7.82539988  -9.54819965  -6.85430002  -3.7572999   -3.45429993\n",
      "  -6.64410019  -5.07849979  -6.36689997  -8.62380028  -5.03340006\n",
      "  -5.72679996  -6.62179995  -8.89540005 -16.11300087  -3.89120007\n",
      "  -6.5170002   -4.11539984  -7.50509977  -2.88700008  -2.9152\n",
      "  -6.65560007  -7.30389977  -5.3743      -3.2434001   -5.21990013\n",
      "  -8.97430038  -3.7032001   -1.59630001  -5.76550007 -15.13199997\n",
      "  -6.96500015  -5.11479998  -5.74280024 -10.98799992  -5.36789989\n",
      " -10.84799957  -6.03319979  -9.08259964  -6.27899981  -6.18529987\n",
      "  -1.36329997  -4.5447998   -6.61070013  -9.2027998  -10.39400005\n",
      "  -4.87790012  -4.33190012  -4.09730005  -6.12839985 -10.50599957\n",
      "  -4.24280024  -6.70839977  -9.20619965  -3.82380009  -6.3597002\n",
      "  -1.97510004  -3.81890011  -8.66399956  -7.10750008  -3.93000007\n",
      "   4.9749999    4.36369991   4.3348999    7.92999983   6.14410019\n",
      "   4.27699995   7.34749985  10.51099968   1.13189995   5.56769991\n",
      "   9.7347002    5.01970005   1.09949994   5.38380003   6.55420017\n",
      "   7.92670012   7.25360012   7.99440002   6.49020004   3.98810005\n",
      "   6.25500011   5.53100014   5.28809977   9.95079994   4.67889977\n",
      "   6.35080004   5.80690002   4.91130018   2.96720004   7.23649979\n",
      "   5.01800013  12.14799976   0.78965998   7.85200024  15.93299961\n",
      "   3.83470011   6.7434001    9.16429996   7.5065999    8.29909992\n",
      "   6.41410017   4.04960012  11.46700001   5.83580017   3.74489999\n",
      "   5.91989994   7.34439993   4.6789999    4.65329981   4.19019985\n",
      "   5.39610004   6.7968998    3.20560002  -0.13224      5.2013998\n",
      "   6.26000023   5.58650017   4.9380002    7.46700001   5.80530024\n",
      "  10.9119997    6.81720018   2.4539001    6.01200008   6.60230017\n",
      "   8.02369976   7.60769987   3.28539991   4.40500021   7.25010014\n",
      "   4.53389978   5.33179998   6.69010019   5.40939999   5.15829992\n",
      "  11.38199997   7.25680017   4.31419992   7.4124999    6.72319984\n",
      "   2.87030005   5.7013998    4.98880005   8.43570042   4.91709995\n",
      "   4.83209991   4.52110004   3.76309991   7.00640011   5.35979986\n",
      "   6.77040005   8.64179993   5.76039982   6.08890009   5.44579983\n",
      "   4.9513998    5.48950005   4.22039986  10.85400009   6.24580002\n",
      "  10.40400028   3.27940011   6.81389999   6.68009996   3.86139989\n",
      "  10.21899986   7.29869986   1.07449996   6.29320002   5.07499981\n",
      "   8.26900005   2.82249999   4.86030006   4.91870022   4.8993001\n",
      "  11.47900009   5.39760017   5.49819994   8.50969982   2.7895\n",
      "   9.41020012   5.06720018   9.35389996   3.39540005   9.06459999\n",
      "   7.71820021   9.71710014   4.00500011   9.31159973   5.87220001\n",
      "   3.68009996   4.48129988   6.21750021  10.14700031   9.75730038\n",
      "   1.83210003   3.06170011   2.54970002   3.95190001  14.38300037\n",
      "  16.47100067   4.64970016   5.80289984   5.16359997   4.83059978\n",
      "   6.44680023   3.3585999    4.2652998    6.47130013   6.10349989\n",
      "   5.11439991   6.6697998    7.00129986   9.71720028  11.52000046\n",
      "   5.32009983   7.32560015   5.04050016   7.52089977  -0.81523001\n",
      "   8.86970043   5.7191       9.50720024   6.57180023   5.13000011\n",
      "   5.25339985   6.80039978   4.36619997   4.52820015   5.54020023\n",
      "   2.38070011  10.18599987   3.77629995   7.72240019   8.24559975\n",
      "   7.40969992   5.90549994   7.70289993   1.69239998   2.86490011\n",
      "   3.49250007  10.31599998   6.40649986   6.65170002   2.06559992\n",
      "   4.90939999   3.50589991   4.29729986   6.92689991   7.37120008\n",
      "   5.08169985   3.7572       5.88710022   2.88879991   6.12090015\n",
      "   5.63409996   1.61829996   4.25269985   4.93499994   6.75349998\n",
      "   7.76350021  10.13500023   3.62389994   5.204       12.4659996\n",
      "   4.52069998   4.15220022   5.63430023   6.70480013   2.18939996\n",
      "   7.22329998   2.31110001   8.04119968   5.40320015   7.44080019\n",
      "   6.39639997  14.43500042   1.74549997  12.28299999   5.64720011\n",
      "   7.89300013   4.87470007   5.76170015   2.61949992   8.73929977\n",
      "   9.38010025   4.43669987   8.31540012   6.8368001   11.89799976\n",
      "   7.59759998   7.46360016   9.89280033   9.98639965   7.75470018\n",
      "   6.31190014   7.0612998    7.0539999   10.4090004    4.27740002\n",
      "   8.41740036   2.49670005   8.57520008   5.90850019   8.61830044\n",
      "   5.6486001    3.47679996  12.78899956   9.8671999   12.8210001\n",
      "   5.38749981   9.2329998    8.17029953   4.80060005   8.8739996\n",
      "   2.13470006   5.17549992   3.91989994   7.31820011   4.1170001\n",
      "   8.34589958  11.68200016   6.32369995   5.66660023   7.22819996\n",
      "   5.02740002   4.16849995  10.08699989   6.62629986   5.96780014\n",
      "   5.45200014   5.66559982   5.67770004   8.98849964   7.26160002\n",
      "   5.84549999   4.09520006   7.97790003   3.89610004   4.29839993\n",
      "  10.75899982   3.7493999    3.51430011   6.24160004   5.56519985\n",
      "  11.83500004   4.41179991  10.05700016   4.44840002   1.66460001\n",
      "   5.1473999    3.17549992  12.16699982   5.23339987   4.42749977\n",
      "   7.94019985   8.38329983   3.10960007   3.98990011   5.89410019\n",
      "  30.           0.        ]\n",
      "(602,)\n"
     ]
    }
   ],
   "source": [
    "def embed_sentence_simple(sentence):\n",
    "    \"\"\"\n",
    "    This is the part where you can go crazy and complex to add features, change aggregation way, use PCA, ...\n",
    "    \"\"\"\n",
    "    word_embeddings = embed_words(sentence)\n",
    "    sentence_embedding = np.concatenate([word_embeddings.min(axis=0), \n",
    "                                         word_embeddings.max(axis=0), \n",
    "                                         [embed_words(sentence).shape[0], \n",
    "                                         len([token for token in nlp(sentence[\"text\"]) if token.is_oov])]])\n",
    "    # sentence_embedding = np.concatenate([word_embeddings.min(axis=0), word_embeddings.max(axis=0)])\n",
    "    # sentence_embedding = word_embeddings.mean(axis=0)\n",
    "    return sentence_embedding\n",
    "\n",
    "sentence_embedding = embed_sentence_simple(sentence)\n",
    "print(sentence_embedding)\n",
    "print(sentence_embedding.shape)"
   ]
  },
  {
   "cell_type": "code",
   "execution_count": 20,
   "metadata": {},
   "outputs": [
    {
     "name": "stderr",
     "output_type": "stream",
     "text": [
      "100%|████████████████████████████████████████████████████████████████████| 2185/2185 [00:50<00:00, 43.13it/s]"
     ]
    },
    {
     "name": "stdout",
     "output_type": "stream",
     "text": [
      "CPU times: user 50 s, sys: 686 ms, total: 50.6 s\n",
      "Wall time: 50.7 s\n"
     ]
    },
    {
     "name": "stderr",
     "output_type": "stream",
     "text": [
      "\n"
     ]
    }
   ],
   "source": [
    "%%time\n",
    "\n",
    "df[\"features_simple\"] = df.progress_apply(embed_sentence_simple,axis=1)\n",
    "\n",
    "# For bigger datasets, you can write the results to disk to cache them\n",
    "# df.to_pickle(\"DATA/df_with_features.pkl\")"
   ]
  },
  {
   "cell_type": "code",
   "execution_count": 21,
   "metadata": {},
   "outputs": [],
   "source": [
    "# Load cached results\n",
    "# df = pd.read_pickle(\"DATA/df_with_features.pkl\")"
   ]
  },
  {
   "cell_type": "markdown",
   "metadata": {},
   "source": [
    "## Classify"
   ]
  },
  {
   "cell_type": "code",
   "execution_count": 22,
   "metadata": {},
   "outputs": [],
   "source": [
    "X = np.stack(df[\"features_simple\"].values)\n",
    "y = np.array(df[\"subject\"])\n"
   ]
  },
  {
   "cell_type": "code",
   "execution_count": null,
   "metadata": {},
   "outputs": [],
   "source": []
  },
  {
   "cell_type": "code",
   "execution_count": 23,
   "metadata": {},
   "outputs": [
    {
     "name": "stdout",
     "output_type": "stream",
     "text": [
      "X_train shape: (1638, 602)\n",
      "X_test shape: (547, 602)\n",
      "y_train shape: (1638,)\n",
      "y_test shape: (547,)\n"
     ]
    }
   ],
   "source": [
    "X_train, X_test, y_train, y_test = train_test_split(X, y, random_state=22141)\n",
    "print(f\"X_train shape: {X_train.shape}\")\n",
    "print(f\"X_test shape: {X_test.shape}\")\n",
    "print(f\"y_train shape: {y_train.shape}\")\n",
    "print(f\"y_test shape: {y_test.shape}\")\n",
    "\n"
   ]
  },
  {
   "cell_type": "code",
   "execution_count": 24,
   "metadata": {},
   "outputs": [
    {
     "name": "stdout",
     "output_type": "stream",
     "text": [
      "CPU times: user 898 ms, sys: 5.73 ms, total: 904 ms\n",
      "Wall time: 904 ms\n"
     ]
    },
    {
     "data": {
      "text/html": [
       "<style>#sk-container-id-3 {color: black;}#sk-container-id-3 pre{padding: 0;}#sk-container-id-3 div.sk-toggleable {background-color: white;}#sk-container-id-3 label.sk-toggleable__label {cursor: pointer;display: block;width: 100%;margin-bottom: 0;padding: 0.3em;box-sizing: border-box;text-align: center;}#sk-container-id-3 label.sk-toggleable__label-arrow:before {content: \"▸\";float: left;margin-right: 0.25em;color: #696969;}#sk-container-id-3 label.sk-toggleable__label-arrow:hover:before {color: black;}#sk-container-id-3 div.sk-estimator:hover label.sk-toggleable__label-arrow:before {color: black;}#sk-container-id-3 div.sk-toggleable__content {max-height: 0;max-width: 0;overflow: hidden;text-align: left;background-color: #f0f8ff;}#sk-container-id-3 div.sk-toggleable__content pre {margin: 0.2em;color: black;border-radius: 0.25em;background-color: #f0f8ff;}#sk-container-id-3 input.sk-toggleable__control:checked~div.sk-toggleable__content {max-height: 200px;max-width: 100%;overflow: auto;}#sk-container-id-3 input.sk-toggleable__control:checked~label.sk-toggleable__label-arrow:before {content: \"▾\";}#sk-container-id-3 div.sk-estimator input.sk-toggleable__control:checked~label.sk-toggleable__label {background-color: #d4ebff;}#sk-container-id-3 div.sk-label input.sk-toggleable__control:checked~label.sk-toggleable__label {background-color: #d4ebff;}#sk-container-id-3 input.sk-hidden--visually {border: 0;clip: rect(1px 1px 1px 1px);clip: rect(1px, 1px, 1px, 1px);height: 1px;margin: -1px;overflow: hidden;padding: 0;position: absolute;width: 1px;}#sk-container-id-3 div.sk-estimator {font-family: monospace;background-color: #f0f8ff;border: 1px dotted black;border-radius: 0.25em;box-sizing: border-box;margin-bottom: 0.5em;}#sk-container-id-3 div.sk-estimator:hover {background-color: #d4ebff;}#sk-container-id-3 div.sk-parallel-item::after {content: \"\";width: 100%;border-bottom: 1px solid gray;flex-grow: 1;}#sk-container-id-3 div.sk-label:hover label.sk-toggleable__label {background-color: #d4ebff;}#sk-container-id-3 div.sk-serial::before {content: \"\";position: absolute;border-left: 1px solid gray;box-sizing: border-box;top: 0;bottom: 0;left: 50%;z-index: 0;}#sk-container-id-3 div.sk-serial {display: flex;flex-direction: column;align-items: center;background-color: white;padding-right: 0.2em;padding-left: 0.2em;position: relative;}#sk-container-id-3 div.sk-item {position: relative;z-index: 1;}#sk-container-id-3 div.sk-parallel {display: flex;align-items: stretch;justify-content: center;background-color: white;position: relative;}#sk-container-id-3 div.sk-item::before, #sk-container-id-3 div.sk-parallel-item::before {content: \"\";position: absolute;border-left: 1px solid gray;box-sizing: border-box;top: 0;bottom: 0;left: 50%;z-index: -1;}#sk-container-id-3 div.sk-parallel-item {display: flex;flex-direction: column;z-index: 1;position: relative;background-color: white;}#sk-container-id-3 div.sk-parallel-item:first-child::after {align-self: flex-end;width: 50%;}#sk-container-id-3 div.sk-parallel-item:last-child::after {align-self: flex-start;width: 50%;}#sk-container-id-3 div.sk-parallel-item:only-child::after {width: 0;}#sk-container-id-3 div.sk-dashed-wrapped {border: 1px dashed gray;margin: 0 0.4em 0.5em 0.4em;box-sizing: border-box;padding-bottom: 0.4em;background-color: white;}#sk-container-id-3 div.sk-label label {font-family: monospace;font-weight: bold;display: inline-block;line-height: 1.2em;}#sk-container-id-3 div.sk-label-container {text-align: center;}#sk-container-id-3 div.sk-container {/* jupyter's `normalize.less` sets `[hidden] { display: none; }` but bootstrap.min.css set `[hidden] { display: none !important; }` so we also need the `!important` here to be able to override the default hidden behavior on the sphinx rendered scikit-learn.org. See: https://github.com/scikit-learn/scikit-learn/issues/21755 */display: inline-block !important;position: relative;}#sk-container-id-3 div.sk-text-repr-fallback {display: none;}</style><div id=\"sk-container-id-3\" class=\"sk-top-container\"><div class=\"sk-text-repr-fallback\"><pre>RandomForestClassifier(class_weight=&#x27;balanced&#x27;, max_depth=2, n_estimators=300,\n",
       "                       random_state=22141)</pre><b>In a Jupyter environment, please rerun this cell to show the HTML representation or trust the notebook. <br />On GitHub, the HTML representation is unable to render, please try loading this page with nbviewer.org.</b></div><div class=\"sk-container\" hidden><div class=\"sk-item\"><div class=\"sk-estimator sk-toggleable\"><input class=\"sk-toggleable__control sk-hidden--visually\" id=\"sk-estimator-id-3\" type=\"checkbox\" checked><label for=\"sk-estimator-id-3\" class=\"sk-toggleable__label sk-toggleable__label-arrow\">RandomForestClassifier</label><div class=\"sk-toggleable__content\"><pre>RandomForestClassifier(class_weight=&#x27;balanced&#x27;, max_depth=2, n_estimators=300,\n",
       "                       random_state=22141)</pre></div></div></div></div></div>"
      ],
      "text/plain": [
       "RandomForestClassifier(class_weight='balanced', max_depth=2, n_estimators=300,\n",
       "                       random_state=22141)"
      ]
     },
     "execution_count": 24,
     "metadata": {},
     "output_type": "execute_result"
    }
   ],
   "source": [
    "%%time\n",
    "from sklearn.ensemble import RandomForestClassifier\n",
    "from sklearn.datasets import make_classification\n",
    "\n",
    "clf = RandomForestClassifier(max_depth=2, random_state=22141, class_weight=\"balanced\", n_estimators=300)\n",
    "clf.fit(X_train, y_train)\n",
    "\n"
   ]
  },
  {
   "cell_type": "markdown",
   "metadata": {},
   "source": [
    "## Evaluate"
   ]
  },
  {
   "cell_type": "code",
   "execution_count": 25,
   "metadata": {},
   "outputs": [
    {
     "name": "stdin",
     "output_type": "stream",
     "text": [
      "Enter experiment name:  min, max, lensentence, first word's embedding\n"
     ]
    },
    {
     "name": "stdout",
     "output_type": "stream",
     "text": [
      "               precision    recall  f1-score   support\n",
      "\n",
      "Environmental       0.77      0.53      0.63       299\n",
      "        Other       0.51      0.48      0.50       115\n",
      "       Social       0.37      0.66      0.48       133\n",
      "\n",
      "     accuracy                           0.55       547\n",
      "    macro avg       0.55      0.55      0.53       547\n",
      " weighted avg       0.62      0.55      0.56       547\n",
      "\n"
     ]
    },
    {
     "data": {
      "image/png": "[encoded data removed]",
      "text/plain": [
       "<Figure size 800x500 with 2 Axes>"
      ]
     },
     "metadata": {},
     "output_type": "display_data"
    }
   ],
   "source": [
    "\n",
    "experiment_name = input(\"Enter experiment name: \")\n",
    "predictions = clf.predict(X_test)\n",
    "stats = evaluate_model(y_test, predictions, clf.classes_)\n",
    "log_experiment_results(experiment_name, stats[\"macro avg\"])"
   ]
  },
  {
   "cell_type": "markdown",
   "metadata": {},
   "source": [
    "## What's next?\n",
    "\n",
    "The example above is to illustrate the theory of embeddings. In reality, you can build pipelines super easily with SpaCy (if you prioritize speed) or HuggingFace transfomers (if you prioritize accuracy)\n",
    "\n",
    "https://medium.com/@ycouble/training-and-integrating-a-custom-text-classifier-to-a-spacy-pipeline-b19e6a132487"
   ]
  },
  {
   "cell_type": "code",
   "execution_count": null,
   "metadata": {},
   "outputs": [],
   "source": []
  }
 ],
 "metadata": {
  "colab": {
   "collapsed_sections": [],
   "include_colab_link": true,
   "name": "nlpdemystified-preprocessing.ipynb",
   "private_outputs": true,
   "provenance": []
  },
  "kernelspec": {
   "display_name": "Python 3 (ipykernel)",
   "language": "python",
   "name": "python3"
  },
  "language_info": {
   "codemirror_mode": {
    "name": "ipython",
    "version": 3
   },
   "file_extension": ".py",
   "mimetype": "text/x-python",
   "name": "python",
   "nbconvert_exporter": "python",
   "pygments_lexer": "ipython3",
   "version": "3.11.6"
  }
 },
 "nbformat": 4,
 "nbformat_minor": 4
}
